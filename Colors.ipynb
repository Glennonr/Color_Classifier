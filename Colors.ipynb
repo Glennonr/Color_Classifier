{
  "nbformat": 4,
  "nbformat_minor": 0,
  "metadata": {
    "colab": {
      "name": "HW04_Colors.ipynb",
      "provenance": [],
      "collapsed_sections": []
    },
    "kernelspec": {
      "name": "python3",
      "display_name": "Python 3"
    }
  },
  "cells": [
    {
      "cell_type": "markdown",
      "metadata": {
        "id": "WlOhuSXgMlQV",
        "colab_type": "text"
      },
      "source": [
        "Color Matching\n",
        "============\n",
        "\n",
        "The goal of this homework is to develop a color-matching system. You will create ML models that can both predict a color name from an RGB triplet. If you don't know how RGB triplets work, do a little searching on the internet. Our system will use the numbers 0-255 for each value of red, green, and blue.\n",
        "\n",
        "The dataset simply has one column for each of R, G, and B along with a column for the color names. Ths is derived from the [XKCD Color Suvery](https://blog.xkcd.com/2010/05/03/color-survey-results/). However the data has been highly pre-processing for you:\n",
        "\n",
        "* Colorblind participant responses have been removed\n",
        "* Non-english speaking participant responses have been removed\n",
        "* Non-LCD-monitor-user responses have been removed\n",
        "* Responses considered to be spammy have been removed\n",
        "* All unique color names have been removed\n",
        "* All colornames longer than 32 characters have been removed*\n",
        "* All characters converted to lowercase and many symbols removed/replaced\n",
        "* 1000s of spelling mistakes and other corrections to the data have been made to increase the quality of the data dramatically\n",
        "\n",
        "***WARNING***: Even with all of the data cleaning and sample removal there is still about 2.5 million samples with a total of about 20,000 unique color names. There are definitely still spelling mistakes or colors that could be combined just written slightly differently.\n",
        "\n",
        "You will not be able to train on the full dataset at once. In fact you will likely only be able to train on about 50,000-100,000 samples at a time depending on your algorithm and data cleaning. Online algorithms that can do mini-batches will be perfect here (see later on for doing this).\n",
        "\n",
        "\n",
        "Getting the data and data exploration part is mostly done for you:\n",
        "\n",
        "* The code for grabbing the data is below (note that I may update the data if any agregious problems are found with it)\n",
        "* The target is the colorname\n",
        "* The colorname color is a string, it is multiclass categorical\n",
        "* All of the R, G, B features are integral, ranging from 0 to 255, uniform distributions, and there is no correlation between them and you cannot do meaningful correlations between categorical and numerical features\n",
        "* No feature is missing data but not all of the data will be useful\n",
        "* The problem would be solved manually by having an expert gives names to specific RGB values. When prediciting you simply find the nearest RGB value to predict its colorname."
      ]
    },
    {
      "cell_type": "code",
      "metadata": {
        "id": "urbsoy6SjDOg",
        "colab_type": "code",
        "colab": {}
      },
      "source": [
        "#All imports for the project\n",
        "import numpy as np\n",
        "import pandas as pd\n",
        "from mpl_toolkits import mplot3d\n",
        "import matplotlib.pylab as plt\n",
        "import colorsys as colorsys\n",
        "\n",
        "from sklearn.preprocessing import MinMaxScaler\n",
        "from sklearn.model_selection import train_test_split\n",
        "\n",
        "from sklearn.pipeline import Pipeline\n",
        "from sklearn.compose import ColumnTransformer\n",
        "from sklearn.impute import SimpleImputer\n",
        "from sklearn.model_selection import cross_val_score, GridSearchCV\n",
        "from sklearn.base import BaseEstimator, TransformerMixin, ClassifierMixin\n",
        "\n",
        "\n",
        "from sklearn.tree import DecisionTreeClassifier\n",
        "from sklearn.ensemble import RandomForestClassifier\n",
        "from sklearn.linear_model import SGDClassifier, LogisticRegressionCV\n",
        "from sklearn.svm import LinearSVC\n",
        "\n"
      ],
      "execution_count": 1,
      "outputs": []
    },
    {
      "cell_type": "code",
      "metadata": {
        "id": "OyVPUHYGjI47",
        "colab_type": "code",
        "colab": {
          "base_uri": "https://localhost:8080/",
          "height": 204
        },
        "outputId": "1f9a81a2-83cd-4085-fae0-5aecae841366"
      },
      "source": [
        "# Load the full dataset\n",
        "colors_full = pd.read_csv('https://drive.google.com/a/moravian.edu/uc?id=1AYDeEHLe0KvqRIQSaRZcXkXzefSAZZw5&export=download', compression='gzip',\n",
        "                          dtype={'r':np.uint8, 'g':np.uint8, 'b':np.uint8, 'colorname':str})\n",
        "colors_full.info()"
      ],
      "execution_count": 2,
      "outputs": [
        {
          "output_type": "stream",
          "text": [
            "<class 'pandas.core.frame.DataFrame'>\n",
            "RangeIndex: 2491728 entries, 0 to 2491727\n",
            "Data columns (total 4 columns):\n",
            " #   Column     Dtype \n",
            "---  ------     ----- \n",
            " 0   r          uint8 \n",
            " 1   g          uint8 \n",
            " 2   b          uint8 \n",
            " 3   colorname  object\n",
            "dtypes: object(1), uint8(3)\n",
            "memory usage: 26.1+ MB\n"
          ],
          "name": "stdout"
        }
      ]
    },
    {
      "cell_type": "code",
      "metadata": {
        "id": "xUnNxTN1cktI",
        "colab_type": "code",
        "colab": {
          "base_uri": "https://localhost:8080/",
          "height": 221
        },
        "outputId": "5e470ea3-0e97-4c5d-d700-7d624b11848c"
      },
      "source": [
        "# List the counts for all the colornames (will only show us the highest counting and lowest counting ones)\n",
        "colors_full.colorname.value_counts()"
      ],
      "execution_count": 3,
      "outputs": [
        {
          "output_type": "execute_result",
          "data": {
            "text/plain": [
              "green                234815\n",
              "blue                 219401\n",
              "purple               199072\n",
              "pink                  98883\n",
              "brown                 56580\n",
              "                      ...  \n",
              "nondescript green         2\n",
              "savannah grass            2\n",
              "green varient             2\n",
              "penguin                   2\n",
              "thunder gray              2\n",
              "Name: colorname, Length: 20704, dtype: int64"
            ]
          },
          "metadata": {
            "tags": []
          },
          "execution_count": 3
        }
      ]
    },
    {
      "cell_type": "markdown",
      "metadata": {
        "id": "OrkvJvZNVzfV",
        "colab_type": "text"
      },
      "source": [
        "Big Picture and Get and Explore the Data\n",
        "-----------------\n",
        "\n",
        "While the above notes and code get you through most of this, you still must:\n",
        "* Frame this problem (supervised/unsupervised, online/offline, regression/classification, ...)\n",
        "* Decide if you will be shuffling your data\n",
        " * The data is ordered by time that a person submitted the data which means that one person's samples will all be very close to each other.\n",
        "* Split a test set but don't worry about stratification\n",
        "* Identify the promising transformations you may want to apply:\n",
        " * Even though we don't have many features and they are all fairly basic you should think about how you may combine them or modify them to get more features that may assist the ML model you choose. You may come back to this step after you have already begun to explore the ML models however.\n",
        " * Remember that you want to work with only a subset of the data due to the massive number of samples."
      ]
    },
    {
      "cell_type": "markdown",
      "metadata": {
        "id": "ljijC61EWQxl",
        "colab_type": "text"
      },
      "source": [
        "This problem would benefit from a supervised solution. It is a classification problem . Online functionality would be beneficial and mini batches will be used because the data set is large and this works with online models."
      ]
    },
    {
      "cell_type": "markdown",
      "metadata": {
        "id": "iKOjVhEac1Cr",
        "colab_type": "text"
      },
      "source": [
        "We should shuffle the data to make sure each person's answers are not grouped together."
      ]
    },
    {
      "cell_type": "code",
      "metadata": {
        "id": "114mmASVc78V",
        "colab_type": "code",
        "colab": {}
      },
      "source": [
        "#Shuffling the data\n",
        "colors_full_shuffled = colors_full.sample(frac=1)"
      ],
      "execution_count": 4,
      "outputs": []
    },
    {
      "cell_type": "code",
      "metadata": {
        "id": "4OMFSssGWRF5",
        "colab_type": "code",
        "colab": {}
      },
      "source": [
        "#Splitting off the testing set using train_test_split. Using a random state to produce reproducable results\n",
        "train_set, test_set = train_test_split(colors_full_shuffled, test_size=0.2, random_state=42)"
      ],
      "execution_count": 5,
      "outputs": []
    },
    {
      "cell_type": "markdown",
      "metadata": {
        "id": "CkGqC1O-O8xb",
        "colab_type": "text"
      },
      "source": [
        "Using a test set 20% of the full dataset because we are not worried about the size of the training set and having to make it smaller, but 25% (the sklearn default) would be rather large. "
      ]
    },
    {
      "cell_type": "code",
      "metadata": {
        "id": "3f6Xk9aVcp4w",
        "colab_type": "code",
        "colab": {
          "base_uri": "https://localhost:8080/",
          "height": 359
        },
        "outputId": "120a4dbe-0780-4288-8424-f2cbb871e04d"
      },
      "source": [
        "#Looking at a small piece of the data to ensure it was shuffled\n",
        "train_set[:10]"
      ],
      "execution_count": 6,
      "outputs": [
        {
          "output_type": "execute_result",
          "data": {
            "text/html": [
              "<div>\n",
              "<style scoped>\n",
              "    .dataframe tbody tr th:only-of-type {\n",
              "        vertical-align: middle;\n",
              "    }\n",
              "\n",
              "    .dataframe tbody tr th {\n",
              "        vertical-align: top;\n",
              "    }\n",
              "\n",
              "    .dataframe thead th {\n",
              "        text-align: right;\n",
              "    }\n",
              "</style>\n",
              "<table border=\"1\" class=\"dataframe\">\n",
              "  <thead>\n",
              "    <tr style=\"text-align: right;\">\n",
              "      <th></th>\n",
              "      <th>r</th>\n",
              "      <th>g</th>\n",
              "      <th>b</th>\n",
              "      <th>colorname</th>\n",
              "    </tr>\n",
              "  </thead>\n",
              "  <tbody>\n",
              "    <tr>\n",
              "      <th>862339</th>\n",
              "      <td>222</td>\n",
              "      <td>53</td>\n",
              "      <td>57</td>\n",
              "      <td>red</td>\n",
              "    </tr>\n",
              "    <tr>\n",
              "      <th>1880858</th>\n",
              "      <td>99</td>\n",
              "      <td>237</td>\n",
              "      <td>93</td>\n",
              "      <td>washed out green</td>\n",
              "    </tr>\n",
              "    <tr>\n",
              "      <th>2376045</th>\n",
              "      <td>255</td>\n",
              "      <td>161</td>\n",
              "      <td>193</td>\n",
              "      <td>pink</td>\n",
              "    </tr>\n",
              "    <tr>\n",
              "      <th>1424253</th>\n",
              "      <td>232</td>\n",
              "      <td>210</td>\n",
              "      <td>4</td>\n",
              "      <td>ugly yellow</td>\n",
              "    </tr>\n",
              "    <tr>\n",
              "      <th>2487561</th>\n",
              "      <td>163</td>\n",
              "      <td>112</td>\n",
              "      <td>207</td>\n",
              "      <td>pastel purple</td>\n",
              "    </tr>\n",
              "    <tr>\n",
              "      <th>995171</th>\n",
              "      <td>245</td>\n",
              "      <td>236</td>\n",
              "      <td>52</td>\n",
              "      <td>yellow</td>\n",
              "    </tr>\n",
              "    <tr>\n",
              "      <th>779189</th>\n",
              "      <td>98</td>\n",
              "      <td>53</td>\n",
              "      <td>3</td>\n",
              "      <td>brown</td>\n",
              "    </tr>\n",
              "    <tr>\n",
              "      <th>1398671</th>\n",
              "      <td>189</td>\n",
              "      <td>99</td>\n",
              "      <td>105</td>\n",
              "      <td>mauve</td>\n",
              "    </tr>\n",
              "    <tr>\n",
              "      <th>1586048</th>\n",
              "      <td>207</td>\n",
              "      <td>254</td>\n",
              "      <td>153</td>\n",
              "      <td>yellow green</td>\n",
              "    </tr>\n",
              "    <tr>\n",
              "      <th>2417423</th>\n",
              "      <td>210</td>\n",
              "      <td>187</td>\n",
              "      <td>208</td>\n",
              "      <td>pale mauve</td>\n",
              "    </tr>\n",
              "  </tbody>\n",
              "</table>\n",
              "</div>"
            ],
            "text/plain": [
              "           r    g    b         colorname\n",
              "862339   222   53   57               red\n",
              "1880858   99  237   93  washed out green\n",
              "2376045  255  161  193              pink\n",
              "1424253  232  210    4       ugly yellow\n",
              "2487561  163  112  207     pastel purple\n",
              "995171   245  236   52            yellow\n",
              "779189    98   53    3             brown\n",
              "1398671  189   99  105             mauve\n",
              "1586048  207  254  153      yellow green\n",
              "2417423  210  187  208        pale mauve"
            ]
          },
          "metadata": {
            "tags": []
          },
          "execution_count": 6
        }
      ]
    },
    {
      "cell_type": "code",
      "metadata": {
        "id": "EBEBnfpyPT6p",
        "colab_type": "code",
        "colab": {}
      },
      "source": [
        "#Making a copy of the training set to transform and refine step by step.\n",
        "#if things improve the results they will eventually become steps in the full pipeline\n",
        "train_set_copy = train_set.copy()"
      ],
      "execution_count": 7,
      "outputs": []
    },
    {
      "cell_type": "markdown",
      "metadata": {
        "id": "fWrBzcgYFaAF",
        "colab_type": "text"
      },
      "source": [
        "To verify if the distribution of the RGB values are uniform like they should be, I am making a histogram for each one."
      ]
    },
    {
      "cell_type": "code",
      "metadata": {
        "id": "UtzyUZ7LFpZS",
        "colab_type": "code",
        "colab": {
          "base_uri": "https://localhost:8080/",
          "height": 336
        },
        "outputId": "a65ba003-7b76-41c9-89d6-a9787631fc42"
      },
      "source": [
        "# Display the distribution of each value\n",
        "plt.figure(figsize=(15,5))\n",
        "plt.subplot(1, 3, 1)\n",
        "plt.hist(train_set_copy['r'], bins=250,)\n",
        "plt.title(\"Distribution of R values\")\n",
        "plt.subplot(1, 3, 2)\n",
        "plt.hist(train_set_copy['g'], bins=250,)\n",
        "plt.title(\"Distribution of G values\")\n",
        "plt.subplot(1, 3, 3)\n",
        "plt.hist(train_set_copy['b'], bins=250)\n",
        "plt.title(\"Distribution of G values\")\n",
        "\n",
        "pass"
      ],
      "execution_count": 8,
      "outputs": [
        {
          "output_type": "display_data",
          "data": {
            "image/png": "[encoded data removed]",
            "text/plain": [
              "<Figure size 1080x360 with 3 Axes>"
            ]
          },
          "metadata": {
            "tags": [],
            "needs_background": "light"
          }
        }
      ]
    },
    {
      "cell_type": "markdown",
      "metadata": {
        "id": "uFvfJnbjBRBq",
        "colab_type": "text"
      },
      "source": [
        "Aside from a few values being extremely more common than most, perhaps due to randomness or the design of the study, the R G B values are uniformly distributed with each value occuring around 8000 times. We also verified that the values only range from 0 to 255 because of the contraints on the RBG color system. "
      ]
    },
    {
      "cell_type": "markdown",
      "metadata": {
        "id": "CvITLkMKQowf",
        "colab_type": "text"
      },
      "source": [
        "Additional features that would be helpful are the average value between the rgb values. Another value that would be helpful is the 'closeness' between each value. This is because colors like gray white and black are harder to distinguish, but their values are all the same."
      ]
    },
    {
      "cell_type": "code",
      "metadata": {
        "id": "pc8XdLPtBlDX",
        "colab_type": "code",
        "colab": {
          "base_uri": "https://localhost:8080/",
          "height": 359
        },
        "outputId": "7d536c75-45cb-4ba8-91c0-ec1b0b910c6b"
      },
      "source": [
        "#creating a method to make an attribute called mean_rgb_value that is the average of all 3 values for each color\n",
        "def add_mean_column(colors):\n",
        "  colors[\"mean_rgb_value\"] = ((colors[\"r\"] + colors[\"g\"] + colors[\"b\"]) / 3)\n",
        "  return colors\n",
        "\n",
        "\n",
        "\n",
        "#Creating another method that based on the given rgb values can produce h s and v values for the color\n",
        "def add_hsv_columns(colors):\n",
        "  colors['h'] = 0\n",
        "  colors['s'] = 0\n",
        "  colors['v'] = 0\n",
        "  \n",
        "  i = 2\n",
        "#   while i < colors['r'].count():\n",
        "#     if (colors['r'][i] == i).any():\n",
        "#       colors['h'][i], colors['s'][i], colors['v'][i] = colorsys.rgb_to_hsv(colors['r'][i], colors['g'][i], colors['b'][i])\n",
        "#     i = i + 1\n",
        "#   return colors\n",
        "  \n",
        "  \n",
        "  \n",
        "#Creating another method that based on the given rgb values can produce a closeness value for the color\n",
        "def add_closeness_column(colors):\n",
        "    train_set_copy['closeness'] = (train_set_copy[\"r\"] + train_set_copy[\"g\"]) / train_set_copy[\"b\"]\n",
        "    colors.fillna(0)\n",
        "    return colors\n",
        "\n",
        "\n",
        "#train_set_copy = add_hsv_columns(train_set_copy)\n",
        "train_set_copy = add_mean_column(train_set_copy)\n",
        "train_set_copy = add_closeness_column(train_set_copy)\n",
        "\n",
        "train_set_copy[:10]"
      ],
      "execution_count": 9,
      "outputs": [
        {
          "output_type": "execute_result",
          "data": {
            "text/html": [
              "<div>\n",
              "<style scoped>\n",
              "    .dataframe tbody tr th:only-of-type {\n",
              "        vertical-align: middle;\n",
              "    }\n",
              "\n",
              "    .dataframe tbody tr th {\n",
              "        vertical-align: top;\n",
              "    }\n",
              "\n",
              "    .dataframe thead th {\n",
              "        text-align: right;\n",
              "    }\n",
              "</style>\n",
              "<table border=\"1\" class=\"dataframe\">\n",
              "  <thead>\n",
              "    <tr style=\"text-align: right;\">\n",
              "      <th></th>\n",
              "      <th>r</th>\n",
              "      <th>g</th>\n",
              "      <th>b</th>\n",
              "      <th>colorname</th>\n",
              "      <th>mean_rgb_value</th>\n",
              "      <th>closeness</th>\n",
              "    </tr>\n",
              "  </thead>\n",
              "  <tbody>\n",
              "    <tr>\n",
              "      <th>862339</th>\n",
              "      <td>222</td>\n",
              "      <td>53</td>\n",
              "      <td>57</td>\n",
              "      <td>red</td>\n",
              "      <td>25.333333</td>\n",
              "      <td>0.333333</td>\n",
              "    </tr>\n",
              "    <tr>\n",
              "      <th>1880858</th>\n",
              "      <td>99</td>\n",
              "      <td>237</td>\n",
              "      <td>93</td>\n",
              "      <td>washed out green</td>\n",
              "      <td>57.666667</td>\n",
              "      <td>0.860215</td>\n",
              "    </tr>\n",
              "    <tr>\n",
              "      <th>2376045</th>\n",
              "      <td>255</td>\n",
              "      <td>161</td>\n",
              "      <td>193</td>\n",
              "      <td>pink</td>\n",
              "      <td>32.333333</td>\n",
              "      <td>0.829016</td>\n",
              "    </tr>\n",
              "    <tr>\n",
              "      <th>1424253</th>\n",
              "      <td>232</td>\n",
              "      <td>210</td>\n",
              "      <td>4</td>\n",
              "      <td>ugly yellow</td>\n",
              "      <td>63.333333</td>\n",
              "      <td>46.500000</td>\n",
              "    </tr>\n",
              "    <tr>\n",
              "      <th>2487561</th>\n",
              "      <td>163</td>\n",
              "      <td>112</td>\n",
              "      <td>207</td>\n",
              "      <td>pastel purple</td>\n",
              "      <td>75.333333</td>\n",
              "      <td>0.091787</td>\n",
              "    </tr>\n",
              "    <tr>\n",
              "      <th>995171</th>\n",
              "      <td>245</td>\n",
              "      <td>236</td>\n",
              "      <td>52</td>\n",
              "      <td>yellow</td>\n",
              "      <td>7.000000</td>\n",
              "      <td>4.326923</td>\n",
              "    </tr>\n",
              "    <tr>\n",
              "      <th>779189</th>\n",
              "      <td>98</td>\n",
              "      <td>53</td>\n",
              "      <td>3</td>\n",
              "      <td>brown</td>\n",
              "      <td>51.333333</td>\n",
              "      <td>50.333333</td>\n",
              "    </tr>\n",
              "    <tr>\n",
              "      <th>1398671</th>\n",
              "      <td>189</td>\n",
              "      <td>99</td>\n",
              "      <td>105</td>\n",
              "      <td>mauve</td>\n",
              "      <td>45.666667</td>\n",
              "      <td>0.304762</td>\n",
              "    </tr>\n",
              "    <tr>\n",
              "      <th>1586048</th>\n",
              "      <td>207</td>\n",
              "      <td>254</td>\n",
              "      <td>153</td>\n",
              "      <td>yellow green</td>\n",
              "      <td>34.000000</td>\n",
              "      <td>1.339869</td>\n",
              "    </tr>\n",
              "    <tr>\n",
              "      <th>2417423</th>\n",
              "      <td>210</td>\n",
              "      <td>187</td>\n",
              "      <td>208</td>\n",
              "      <td>pale mauve</td>\n",
              "      <td>31.000000</td>\n",
              "      <td>0.677885</td>\n",
              "    </tr>\n",
              "  </tbody>\n",
              "</table>\n",
              "</div>"
            ],
            "text/plain": [
              "           r    g    b         colorname  mean_rgb_value  closeness\n",
              "862339   222   53   57               red       25.333333   0.333333\n",
              "1880858   99  237   93  washed out green       57.666667   0.860215\n",
              "2376045  255  161  193              pink       32.333333   0.829016\n",
              "1424253  232  210    4       ugly yellow       63.333333  46.500000\n",
              "2487561  163  112  207     pastel purple       75.333333   0.091787\n",
              "995171   245  236   52            yellow        7.000000   4.326923\n",
              "779189    98   53    3             brown       51.333333  50.333333\n",
              "1398671  189   99  105             mauve       45.666667   0.304762\n",
              "1586048  207  254  153      yellow green       34.000000   1.339869\n",
              "2417423  210  187  208        pale mauve       31.000000   0.677885"
            ]
          },
          "metadata": {
            "tags": []
          },
          "execution_count": 9
        }
      ]
    },
    {
      "cell_type": "markdown",
      "metadata": {
        "id": "1uPRwENyGIu2",
        "colab_type": "text"
      },
      "source": [
        "This attribute may or may not be useful, we will verify that in a later step. Because the rgb values are uniformly distributed, the average will also be uniformly distributed."
      ]
    },
    {
      "cell_type": "markdown",
      "metadata": {
        "id": "ZpdTTYNlU4nZ",
        "colab_type": "text"
      },
      "source": [
        "The classifier struggles when classifying white gray and black as I discussed in the bottom, so I am creating a closeness attribute"
      ]
    },
    {
      "cell_type": "markdown",
      "metadata": {
        "id": "FdK1HU3DGW6E",
        "colab_type": "text"
      },
      "source": [
        "Summary Notes From Above\n",
        "-----\n",
        "Features:\n",
        "* r\n",
        "* g\n",
        "* b\n",
        "\n",
        "Because each attribute is uniformly distributed and this is a classification problem, we cannot compare correlations like in similar projects.\n",
        "\n",
        "\n",
        "Extra Features to be used: \n",
        "* mean rgb value\n",
        "* closeness\n",
        "\n",
        "Transforms:\n",
        "* MinMaxScaler- to make sure the value is between 0 and 255 for each attribute (not 100% necessary because all values are already in that range in the training set)\n",
        "* StandardImputer - replace NaN values in the data set (not 100% necessary because there are none in the training set)\n",
        "* Creating the new columns I discussed\n",
        "\n",
        "Transfomations to make:\n",
        "* \"dont use\" - say which colors should not be used and remove them from the dataset\n",
        "* \"remove below n\" - specify a number and remove all the datapoints for color names that appear less than n times."
      ]
    },
    {
      "cell_type": "code",
      "metadata": {
        "id": "tLwYmpJRCNXz",
        "colab_type": "code",
        "colab": {}
      },
      "source": [
        ""
      ],
      "execution_count": 9,
      "outputs": []
    },
    {
      "cell_type": "markdown",
      "metadata": {
        "id": "DOPH9QpEWSQt",
        "colab_type": "text"
      },
      "source": [
        "Prepare the Data\n",
        "-------------------\n",
        "\n",
        "**Data cleaning:** While the data has been significantly cleaned, it is still messy. There are several considerations you might want to make for the cleaning step:\n",
        "\n",
        "* How many times should a colorname have come up (out of 2.5 million) for it to be a common-enough colorname? Right now only completely unique names have been removed. Should the color \"toei asakusa line pink\" that was given for 2 colors really be used? A function is proivded for you that removes all colors that have below a specified count. You will want to wrap this in a transformer and make the count a hyperparameter so you can find the best cutoff.\n",
        "* The most common colors like green, blue, and purple (each with about 200k samples, in total about 25% of the data is these 3 colors) are likely not the best choices. We have lots of other choices for these colornames (forest green, sky blue, ...). Having a few classes that are so much more represented than the others will confuse most ML algorithms. You can remove specific colors from the dataset by using something similar to the following code:\n",
        "```\n",
        "dont_use = [...]\n",
        "colors = colors[~colors.colorname.isin(dont_use)]\n",
        "```\n",
        "You will likely want to make the colors to not use a hyperparameter as well since later on your may find that some colors are over-represented in the outputs. Eliminating some of these colors will also make the dataset smaller which is nicer right now due to memory constrains. The flipside to all of this is that some RGB triplets may only be close to one of these common colors and removing them can cause gaps in the data.\n",
        "\n",
        "**Feature engineering:** As mentioned in the exploration step, there are some possible features you may want to extract from the currently available features.\n",
        "\n",
        "**Feature scaling:** Many ML algorithms prefer scaled data. However, our data is uniformly distributed which means the `StandardScaler` is not a good choice. There is another scaler that is commonly used that you will want instead (or you could just do it manually, its really easy in this case).\n",
        "\n",
        "Remember to make this a complete pipeline so you can use the `GridSearchCV` and/or `RandomSearchCV`."
      ]
    },
    {
      "cell_type": "code",
      "metadata": {
        "id": "bTevXk5bQ1eR",
        "colab_type": "code",
        "colab": {}
      },
      "source": [
        "from sklearn.utils.metaestimators import if_delegate_has_method\n",
        "class SupervisedPipeline(BaseEstimator):\n",
        "  \"\"\"\n",
        "  This meta estimator wraps the entire process of preprocessing the data\n",
        "  including allowing removal of rows containing bad data across the data and\n",
        "  target for a supervised system and then splitting the target value from the\n",
        "  data and finally training the model.\n",
        "  \"\"\"\n",
        "  def __init__(self, train_preprocessor, label_column, preprocessor, estimator=None):\n",
        "    \"\"\"\n",
        "    train_preprocessor - transformer, this preprocessor is only run on the full\n",
        "                    dataset (i.e. X and y combined) and only during training.\n",
        "                    The goal of this preprocessor should be to only remove rows\n",
        "                    of data across both the data and labels. The result after\n",
        "                    this transform should be data that is compatible with the\n",
        "                    regular preprocessor that the testing data goes through\n",
        "                    except that it also includes the label_column which will be\n",
        "                    removed next.\n",
        "    label_column  - the string name or the integer index of the column that\n",
        "                    contains the label information (y).\n",
        "    preprocessor  - transformer, likely a Pipeline or ColumnTransformer, that\n",
        "                    performs all preprocessing on the data without the labels. \n",
        "                    It is used for both training and testing.\n",
        "    estimator     - classifier or regressor that makes predictions. Can be None\n",
        "                    in which case this class acts as a transformer.\n",
        "    \n",
        "    Overall training process (i.e. fit):\n",
        "      Xt = train_preprocessor.fit_transform(X)\n",
        "      y  = split off label_column from Xt\n",
        "      Xt = preprocessor.fit_transform(Xt, y)\n",
        "      estimator.fit(Xt, y)\n",
        "      \n",
        "    Overall testing process (i.e. predict and similar):\n",
        "      Xt = preprocessor.transform(X)\n",
        "      return estimator.predict(Xt)\n",
        "      \n",
        "      \n",
        "    All of the standard Sklearn estimator methods are supported as long as they\n",
        "    are supported by the given estimator. They can all take Xy datasets.\n",
        "    The fit and score methods can take X and y separately and the prediction\n",
        "    methods can take just X datasets.\n",
        "    \"\"\"\n",
        "    super().__init__()\n",
        "    self.train_preprocessor = train_preprocessor\n",
        "    self.label_column = label_column\n",
        "    self.preprocessor = preprocessor\n",
        "    self.estimator = estimator\n",
        "    \n",
        "  @staticmethod\n",
        "  def __fit_transform(trans, X, **fit_params):\n",
        "    return trans.fit_transform(X, **fit_params) if hasattr(trans, 'fit_transform') else trans.fit(X).transform(X, **fit_params)\n",
        "\n",
        "  def __split(self, X):\n",
        "    \"\"\"Splits the label column from the data\"\"\"\n",
        "    if isinstance(X, pd.DataFrame):\n",
        "      col = X.columns[self.label_column] if isinstance(self.label_column, int) else self.label_column\n",
        "      y = X.loc[:,col]\n",
        "      X = X.drop(columns=col)\n",
        "    else:\n",
        "      y = X[:,self.label_column]\n",
        "      X = np.delete(X, self.label_column, 1)\n",
        "    return X, y\n",
        "  \n",
        "  def __join(self, X, y):\n",
        "    \"\"\"Joins the label column into the data\"\"\"\n",
        "    if isinstance(X, pd.DataFrame):\n",
        "      X.insert(self.label_column if isinstance(self.label_column, int) else len(X.columns), self.label_column, y)\n",
        "      Xy = X\n",
        "    else:\n",
        "      Xy = np.insert(X, self.label_column, y, axis=1)\n",
        "    return Xy\n",
        "\n",
        "  def __fit(self, X, y=None, **fit_params): # TODO: deal with fit_params like in Pipeline\n",
        "    Xy = self.__join(X, y) if y is not None else X\n",
        "    Xt = SupervisedPipeline.__fit_transform(self.train_preprocessor, Xy)\n",
        "    Xt, y = self.__split(Xt)\n",
        "    self.final_X_cols_ = Xt.shape[1]\n",
        "    Xt = SupervisedPipeline.__fit_transform(self.preprocessor, Xt)\n",
        "    return Xt, y, {}\n",
        "\n",
        "  def fit(self, X, y=None, **fit_params):\n",
        "    Xt, y, fit_params = self.__fit(X, y, **fit_params)\n",
        "    if self.estimator is not None:\n",
        "      if isinstance(Xt, pd.DataFrame): Xt = Xt.reset_index(drop=True)\n",
        "      self.estimator.fit(Xt, y, **fit_params)\n",
        "    return self\n",
        "  \n",
        "  @if_delegate_has_method(delegate='estimator')\n",
        "  def fit_predict(self, X, y=None, **fit_params):\n",
        "    Xt, y, fit_params = self.__fit(X, y, **fit_params)\n",
        "    return self.estimator.fit_predict(Xt, y, **fit_params)\n",
        "    \n",
        "  @if_delegate_has_method(delegate='estimator')\n",
        "  def predict(self, X, **predict_params):\n",
        "    if X.shape[1] != self.final_X_cols_: X, _ = self.__split(X)\n",
        "    if isinstance(X, pd.DataFrame): X = X.reset_index(drop=True)\n",
        "    Xt = self.preprocessor.transform(X)\n",
        "    return self.estimator.predict(Xt, **predict_params)\n",
        "\n",
        "  @if_delegate_has_method(delegate='estimator')\n",
        "  def predict_proba(self, X):\n",
        "    if X.shape[1] != self.final_X_cols_: X, _ = self.split_xy(X)\n",
        "    if isinstance(X, pd.DataFrame): X = X.reset_index(drop=True)\n",
        "    Xt = self.preprocessor.transform(X)\n",
        "    return self.estimator.predict_proba(Xt)\n",
        "\n",
        "  @if_delegate_has_method(delegate='estimator')\n",
        "  def predict_log_proba(self, X):\n",
        "    if X.shape[1] != self.final_X_cols_: X, _ = self.split_xy(X)\n",
        "    if isinstance(X, pd.DataFrame): X = X.reset_index(drop=True)\n",
        "    Xt = self.preprocessor.transform(X)\n",
        "    return self.estimator.predict_log_proba(Xt)\n",
        "\n",
        "  @if_delegate_has_method(delegate='estimator')\n",
        "  def decision_function(self, X):\n",
        "    if X.shape[1] != self.final_X_cols_: X, _ = self.split_xy(X)\n",
        "    if isinstance(X, pd.DataFrame): X = X.reset_index(drop=True)\n",
        "    Xt = self.preprocessor.transform(X)\n",
        "    return self.estimator.decision_function(Xt)\n",
        "\n",
        "  @if_delegate_has_method(delegate='estimator')\n",
        "  def score(self, X, y=None, sample_weight=None):\n",
        "    if y is None: X, y = self.split_xy(X)\n",
        "    Xt = self.preprocessor.transform(X)\n",
        "    if isinstance(Xt, pd.DataFrame): Xt = Xt.reset_index(drop=True)\n",
        "    score_params = {}\n",
        "    if sample_weight is not None: score_params['sample_weight'] = sample_weight\n",
        "    return self.estimator.score(Xt, y, **score_params)\n",
        "  \n",
        "  @property\n",
        "  def transform(self):\n",
        "    if self.estimator is None: return self._transform\n",
        "    raise AttributeError('transform not available when there is an estimator')\n",
        "  def _transform(self, X):\n",
        "    if X.shape[1] != self.final_X_cols_: X, _ = self.split_xy(X)\n",
        "    return self.preprocessor.transform(X)\n",
        "  \n",
        "  @property\n",
        "  def fit_transform(self):\n",
        "    if self.estimator is None: return self._transform\n",
        "    raise AttributeError('fit_transform not available when there is an estimator')\n",
        "  def _fit_transform(self, X, y=None, **fit_params):\n",
        "    Xt, _, _ = self.__fit(X, y, **fit_params)\n",
        "    return Xt\n",
        "  \n",
        "  # The remaining methods are not part of the standard sklearn system\n",
        "  def split_xy(self, Xy):\n",
        "    \"\"\"\n",
        "    Splits the Xy dataset into X and y. Performs any training preprocessing but\n",
        "    not the full preprocessing (and no estimation).\n",
        "    \"\"\"\n",
        "    return self.__split(self.train_preprocessor.transform(Xy))\n",
        "\n",
        "  def transform_xy(self, Xy):\n",
        "    \"\"\"\n",
        "    Splits and transforms the Xy dataset. Returns the X and y split datasets.\n",
        "    Does not run estimation.\n",
        "    \"\"\"\n",
        "    Xt, y = self.split_xy(Xy)\n",
        "    return self.preprocessor.transform(Xt), y\n",
        "\n",
        "  def fit_transform_xy(self, X, y=None, **fit_params):\n",
        "    \"\"\"\n",
        "    Fits this model to the Xy dataset while the data is split and transformed.\n",
        "    Returns the X and y split datasets. The estimator is fit but does not effect\n",
        "    the return values.\n",
        "    \"\"\"\n",
        "    Xt, y, fit_params = self.__fit(X, y, **fit_params)\n",
        "    if self.estimator is not None:\n",
        "      if isinstance(Xt, pd.DataFrame): Xt = Xt.reset_index(drop=True)\n",
        "      self.estimator.fit(Xt, y, **fit_params)\n",
        "    return Xt, y\n"
      ],
      "execution_count": 10,
      "outputs": []
    },
    {
      "cell_type": "markdown",
      "metadata": {
        "id": "xaO0aLUmH60-",
        "colab_type": "text"
      },
      "source": [
        "Since there are still many misspellings of colors due to human error, and also some very specific names that are not very useful, I will use remove_colors_below_count,  this will remove the different colors that appear below n times, I am setting n to 300. This should limit the training data to more common color names"
      ]
    },
    {
      "cell_type": "code",
      "metadata": {
        "id": "iIpuYhZcHgm-",
        "colab_type": "code",
        "colab": {}
      },
      "source": [
        "def remove_colors_below_count(colors, n):\n",
        "  \"\"\"\n",
        "  Returns a new dataframe with all colors removed that show up less than n\n",
        "  times.\n",
        "  \"\"\"\n",
        "  counts = colors.colorname.value_counts()\n",
        "  return colors[colors.colorname.isin(counts[counts>=n].index)]"
      ],
      "execution_count": 11,
      "outputs": []
    },
    {
      "cell_type": "code",
      "metadata": {
        "id": "_n3zrf42Pnxb",
        "colab_type": "code",
        "colab": {}
      },
      "source": [
        "train_set_copy = remove_colors_below_count(train_set_copy, 300)"
      ],
      "execution_count": 12,
      "outputs": []
    },
    {
      "cell_type": "markdown",
      "metadata": {
        "id": "xldEEdYxPyJo",
        "colab_type": "text"
      },
      "source": [
        "Because when labels appear many many more times times in a data set it will cause problems for the sysyem, I am removing three of the extremely common values. green, blue and purple all appear around 200,000 times each, while the next most common is nowhere near that many. This should not affect the data too much because while there may be many of those three colornames, there are more specific labels for these too like light and dark green that can fill in for the generics. Depending on what the client wants, specific names may be more useful than these generic ones. (good question to ask if we could talk to the client)"
      ]
    },
    {
      "cell_type": "code",
      "metadata": {
        "id": "Ndv9mpVAOtsv",
        "colab_type": "code",
        "colab": {}
      },
      "source": [
        "def dont_use_colors(colors, dont_use=[]):\n",
        "  \"\"\"\n",
        "  Returns a new dataframe with all colors removed that are specified in the list\n",
        "  \"\"\"\n",
        "  return colors [~colors.colorname.isin(dont_use)]"
      ],
      "execution_count": 13,
      "outputs": []
    },
    {
      "cell_type": "code",
      "metadata": {
        "id": "Co5DfpxoXZy_",
        "colab_type": "code",
        "colab": {}
      },
      "source": [
        "train_set_copy = dont_use_colors(train_set_copy, ['green', 'blue', 'purple'])"
      ],
      "execution_count": 14,
      "outputs": []
    },
    {
      "cell_type": "code",
      "metadata": {
        "id": "lgwQ_jjhPr8Z",
        "colab_type": "code",
        "colab": {
          "base_uri": "https://localhost:8080/",
          "height": 204
        },
        "outputId": "45af0e73-ac92-4cc7-bde3-ac0f15a4ccc8"
      },
      "source": [
        "#Running this to check if the green, blue and purple (the specified color names) datapoints were removed.\n",
        "train_set_copy.colorname.value_counts()[:10]"
      ],
      "execution_count": 15,
      "outputs": [
        {
          "output_type": "execute_result",
          "data": {
            "text/plain": [
              "pink           79221\n",
              "brown          45331\n",
              "red            40768\n",
              "teal           39629\n",
              "light blue     36719\n",
              "gray           32315\n",
              "orange         32097\n",
              "light green    30208\n",
              "magenta        29180\n",
              "yellow         27004\n",
              "Name: colorname, dtype: int64"
            ]
          },
          "metadata": {
            "tags": []
          },
          "execution_count": 15
        }
      ]
    },
    {
      "cell_type": "markdown",
      "metadata": {
        "id": "BewOsfoGISDb",
        "colab_type": "text"
      },
      "source": [
        "Because we will need both of these transformations in the pipeline, they both need to be made into a class called I am calling \"RemoveBadData\" which does the steps in remove_colors_below_count and dont_use_colors. This makes it much simpler when adding the testing set or different data."
      ]
    },
    {
      "cell_type": "code",
      "metadata": {
        "id": "0rTDS4GWWh7w",
        "colab_type": "code",
        "colab": {}
      },
      "source": [
        "class RemoveBadData(BaseEstimator, TransformerMixin):\n",
        "  \"\"\"\n",
        "Removes specific colors from the data based on the names provided in the dont_use list, and removes colors with counts below n.\n",
        "  \"\"\"\n",
        "  def __init__(self, n, dont_use=[]):\n",
        "    super().__init__()\n",
        "    self.dont_use = dont_use\n",
        "    self.n = n\n",
        "  \n",
        "  def fit(self, X, y=None):\n",
        "    return self\n",
        "  \n",
        "  def transform(self, X, y=None):\n",
        "    X1 = dont_use_colors(X, self.dont_use)\n",
        "    X2 = remove_colors_below_count(X1, self.n)\n",
        "    return X2"
      ],
      "execution_count": 16,
      "outputs": []
    },
    {
      "cell_type": "markdown",
      "metadata": {
        "id": "eH6BUyqYl1RC",
        "colab_type": "text"
      },
      "source": [
        "Because the data given into the system is only R G and B values, we need a step in the pipeline that will calculate the mean rgb value from them. This means we need a class to create these values because they are not provided."
      ]
    },
    {
      "cell_type": "code",
      "metadata": {
        "id": "4JZVB2-0l0pl",
        "colab_type": "code",
        "colab": {}
      },
      "source": [
        "class CreateMeanRGBValue(BaseEstimator, TransformerMixin):\n",
        "  \"\"\"\n",
        "  Transformer that takes the existing RGB values averages them to create the mean_rgb_value attribute\n",
        "  \"\"\"\n",
        "  \n",
        "  def __init__(self):\n",
        "    super().__init__()\n",
        "    \n",
        "  def fit(self, X, y=None):\n",
        "    return self\n",
        "  \n",
        "  def transform(self, X, y=None):\n",
        "    X1 = add_mean_column(X)\n",
        "    return X1"
      ],
      "execution_count": 17,
      "outputs": []
    },
    {
      "cell_type": "markdown",
      "metadata": {
        "id": "PGWDGWz7Sa-k",
        "colab_type": "text"
      },
      "source": [
        "The same thing goes for closeness"
      ]
    },
    {
      "cell_type": "code",
      "metadata": {
        "id": "0ZTZur-H1rW_",
        "colab_type": "code",
        "colab": {}
      },
      "source": [
        "class CreateCloseness(BaseEstimator, TransformerMixin):\n",
        "  \"\"\"\n",
        "  Transformer that takes the existing RGB values makes a value for 'closeness' which is the diference in 2 divided by the third\n",
        "  \"\"\"\n",
        "  \n",
        "  def __init__(self):\n",
        "    super().__init__()\n",
        "    \n",
        "  def fit(self, X, y=None):\n",
        "    return self\n",
        "  \n",
        "  def transform(self, X, y=None):\n",
        "    X1 = add_closeness_column(X)\n",
        "    return X1"
      ],
      "execution_count": 18,
      "outputs": []
    },
    {
      "cell_type": "code",
      "metadata": {
        "id": "lVfznPl4ok0R",
        "colab_type": "code",
        "colab": {}
      },
      "source": [
        "class ConvertToHSV (BaseEstimator, TransformerMixin):\n",
        "  \"\"\"\n",
        "  Transformer that takes the existing RGB values and creates 3 new attributes for the HSV values of the color\n",
        "  \"\"\"\n",
        "  \n",
        "  def __init__(self):\n",
        "    super().__init__()\n",
        "    \n",
        "  def fit(self, X, y=None):\n",
        "    return self\n",
        "  \n",
        "  def transform(self, X, y=None):\n",
        "    X1 = add_hsv_columns(X)\n",
        "    return self"
      ],
      "execution_count": 19,
      "outputs": []
    },
    {
      "cell_type": "markdown",
      "metadata": {
        "id": "xSeSqqbg8pmh",
        "colab_type": "text"
      },
      "source": [
        "Because the dataset is so large, I am creating a sample that is 5% of the original training set. This will be used for quickly training rougher classifiers in the next step so it goes much faster. **This dataset Includes all the transformations I have done above and should not be used in the next step**."
      ]
    },
    {
      "cell_type": "code",
      "metadata": {
        "colab_type": "code",
        "id": "McDPdxt0RMNU",
        "colab": {}
      },
      "source": [
        "transformed_colors_sample = train_set_copy.sample(frac=0.05)"
      ],
      "execution_count": 20,
      "outputs": []
    },
    {
      "cell_type": "markdown",
      "metadata": {
        "id": "P5AakmY8dQww",
        "colab_type": "text"
      },
      "source": [
        "Similarly, because the dataset is so large, I am creating a sample that is 5% of the original training set. This will be used for quickly training rougher classifiers in the next step so it goes much faster. **This is the unchanged data to be run through the full supervised pipeline and the rest of the process**"
      ]
    },
    {
      "cell_type": "code",
      "metadata": {
        "id": "TwQQ267edDh5",
        "colab_type": "code",
        "colab": {}
      },
      "source": [
        "colors_sample = train_set.sample(frac=0.05)"
      ],
      "execution_count": 21,
      "outputs": []
    },
    {
      "cell_type": "markdown",
      "metadata": {
        "id": "XGOiL5WoWBUn",
        "colab_type": "text"
      },
      "source": [
        "The show_examples and show_errors  methods help to judge the quality of the models being used, but show_errors cannot be blindly trusted because if a color is classified correctly but not the exact name it is supposed to have it is technically incorrect."
      ]
    },
    {
      "cell_type": "code",
      "metadata": {
        "id": "tNUeg1ju-kzk",
        "colab_type": "code",
        "colab": {}
      },
      "source": [
        "def show_examples(cls_pipeline):\n",
        "  \"\"\"\n",
        "  Shows a quick few examples of colors and their predictions to get a\n",
        "  visualization of where errors are being made. Feel free to adjust which\n",
        "  RGB triplets are being used below.\n",
        "  \n",
        "  The argument given must be a full pipeline that has a predict method that\n",
        "  takes a DataFrame of RGB triplets. Must be fit already.\n",
        "  \"\"\"\n",
        "  test_colors = [\n",
        "    [255, 0, 0], [255, 255, 0], [0, 255, 0], [0, 255, 255], [0, 0, 255], [255, 0, 255],\n",
        "    [128, 0, 0], [128, 128, 0], [0, 128, 0], [0, 128, 128], [0, 0, 128], [128, 0, 128],\n",
        "    [255, 255, 255], [128, 128, 128], [0, 0, 0]\n",
        "  ]\n",
        "  test_colors_df = pd.DataFrame(test_colors, columns=('r','g','b'), dtype=np.uint8)\n",
        "  predictions = cls_pipeline.predict(test_colors_df)\n",
        "  for i,color in enumerate(test_colors):\n",
        "    plt.subplot(3, 5, i+1)\n",
        "    plt.title(predictions[i])\n",
        "    plt.imshow([[color]])\n",
        "    plt.axis('off')"
      ],
      "execution_count": 22,
      "outputs": []
    },
    {
      "cell_type": "code",
      "metadata": {
        "id": "K3qBaDXf-mc0",
        "colab_type": "code",
        "colab": {}
      },
      "source": [
        "def show_errors(cls_pipeline, validation, correct_color='green', correct_alpha=0.1, incorrect_color='red', incorrect_alpha=0.01):\n",
        "  \"\"\"\n",
        "  Shows correct samples and mistakes that the clsasifier makes on the given\n",
        "  set of validation colors. The validation coloes are a DataFrame of RGB\n",
        "  triplets and the colornames.\n",
        "  \"\"\"\n",
        "  predictions = cls_pipeline.predict(validation[['r','g','b']])\n",
        "  correct_x, correct_y, correct_z = [], [], []\n",
        "  incorrect_x, incorrect_y, incorrect_z = [], [], []\n",
        "  for prediction,(r,g,b,colorname) in zip(predictions, validation.values):\n",
        "    if prediction == colorname:\n",
        "      correct_x.append(r), correct_y.append(g), correct_z.append(b)\n",
        "    else:\n",
        "      incorrect_x.append(r), incorrect_y.append(g), incorrect_z.append(b)\n",
        "  fig = plt.figure()\n",
        "  ax = plt.axes(projection='3d')\n",
        "  ax.scatter3D(correct_x, correct_y, correct_z, c=correct_color, alpha=correct_alpha)\n",
        "  ax.scatter3D(incorrect_x, incorrect_y, incorrect_z, c=incorrect_color, alpha=incorrect_alpha)\n",
        "  ax.set_xlabel('r')\n",
        "  ax.set_ylabel('g')\n",
        "  ax.set_zlabel('b')"
      ],
      "execution_count": 23,
      "outputs": []
    },
    {
      "cell_type": "markdown",
      "metadata": {
        "id": "6WbqBmfvblmD",
        "colab_type": "text"
      },
      "source": [
        "This preprocessor will create all the added attributes I have discussed throughout this document based on the RGB values, then it will fill values which are missing with the median and make sure all values are scaled to be between 0 and 255. No data in the training set is missing or not between these bounds, but it is still useful in case data is added that does not fit these constraints."
      ]
    },
    {
      "cell_type": "code",
      "metadata": {
        "id": "f50puVWF-oKy",
        "colab_type": "code",
        "colab": {}
      },
      "source": [
        "def create_preprocessor():\n",
        "  num_attrs = ['r', 'g','b']\n",
        "  \n",
        "\n",
        "  num_trans = Pipeline(steps=[\n",
        "    ('make_closeness_attr', CreateCloseness()),\n",
        "    ('make_mean_attr', CreateMeanRGBValue()),\n",
        "   # ('make_hsv_columns', ConvertToHSV()),  \n",
        "    ('imputer', SimpleImputer(strategy='median')),\n",
        "    ('standarization', MinMaxScaler(feature_range=(0, 255))),\n",
        "  ])\n",
        "  \n",
        "\n",
        "  preprocessor = ColumnTransformer(transformers=[\n",
        "    ('num', num_trans, num_attrs)\n",
        "  ])\n",
        "  \n",
        "  return preprocessor"
      ],
      "execution_count": 24,
      "outputs": []
    },
    {
      "cell_type": "markdown",
      "metadata": {
        "id": "YLmD_I-7S6qF",
        "colab_type": "text"
      },
      "source": [
        "To use the data in each model we need to seperate the feature values and target names as seperate variables."
      ]
    },
    {
      "cell_type": "code",
      "metadata": {
        "id": "ZBCqdmDvWG2_",
        "colab_type": "code",
        "colab": {}
      },
      "source": [
        "# Get the feature values and target values as separate variables\n",
        "X = colors_sample[['r', 'g', 'b']]\n",
        "y = colors_sample.colorname"
      ],
      "execution_count": 25,
      "outputs": []
    },
    {
      "cell_type": "code",
      "metadata": {
        "id": "957T8v28WBYM",
        "colab_type": "code",
        "colab": {}
      },
      "source": [
        "#Creating the preprocessor to be used in the Supervised pipeline\n",
        "preprocessor = create_preprocessor() "
      ],
      "execution_count": 26,
      "outputs": []
    },
    {
      "cell_type": "markdown",
      "metadata": {
        "id": "sfQV-MMFTDDy",
        "colab_type": "text"
      },
      "source": [
        "This is the supervised pipeline which combines the preprocessor with the scaler, imputer and creating new features with the remove bad data method/class"
      ]
    },
    {
      "cell_type": "code",
      "metadata": {
        "id": "xTnTiIpjV90W",
        "colab_type": "code",
        "colab": {}
      },
      "source": [
        "pipeline = SupervisedPipeline(\n",
        "    RemoveBadData(300, ['green', 'purple', 'blue']), \n",
        "    \"colorname\",        # column with label\n",
        "    preprocessor,    # cleans data and extracts features\n",
        "    \n",
        ")"
      ],
      "execution_count": 27,
      "outputs": []
    },
    {
      "cell_type": "markdown",
      "metadata": {
        "id": "d6_a0wchTQsW",
        "colab_type": "text"
      },
      "source": [
        "With the preprocessing taken care of we can begin training a couple models."
      ]
    },
    {
      "cell_type": "markdown",
      "metadata": {
        "id": "Ozl5uB3PaPTW",
        "colab_type": "text"
      },
      "source": [
        "Short-List Promising Models\n",
        "---------------------------------\n",
        "\n",
        "We have learned several models that could work with our data. Time for you to try them out to see which ones appear to work the best with minimal tweaking of their hyperparameters. Evaluate their training performance and their generalization performance. You will likely have to use a small subset (50-100k samples) for this to not run out of memory.\n",
        "\n",
        "Make sure to go through the following from the checklist:\n",
        "1. Train many quick and dirty models from different categories using standard hyperparameters\n",
        "2. Measure and compare their performance. For each model, use $N$-fold cross-validation and compute the mean and standard deviation of the performance measure on the $N$ folds.\n",
        "3. Analyze the most significant variables (hyperparameters) for each algorithm\n",
        "4. Analyze the types of errors the models make. What data would a human have used to avoid these errors?\n",
        "5. Have a quick round of feature selection and engineering\n",
        "6. Have one or two more quick iterations of the five previous steps (which include trying the different models)\n",
        "7. Short-list the top three* most promising models, preferring models that make different types of errors\n",
        "\n",
        "For a complete answer to this part you must list your top 2 models and why you are selecting them, answering questions from above about them.\n",
        "\n",
        "***NOTE***: Only one classifier we have seen so far supports online learning: Stocastic Gradient Descent. Luckily, it can 'emulate' some of the other classifiers. When using the SGD Classifier, use it in an online manner and train against the entirety of the training data (not just 50-100k samples). To do this you need to use the `partial_fit` method in a loop, giving it chunks of the dataset at a time. The first time this method is called you need to provide it a list of all possible classes. After that it works like the standard `fit` method. I will provide an example of using this function shortly."
      ]
    },
    {
      "cell_type": "markdown",
      "metadata": {
        "id": "wfyjTGtJTXAS",
        "colab_type": "text"
      },
      "source": [
        "Fitting the data with the pipeline to be used in the models"
      ]
    },
    {
      "cell_type": "code",
      "metadata": {
        "id": "_-E5jyGWxIFc",
        "colab_type": "code",
        "colab": {}
      },
      "source": [
        "pipeline.fit(colors_sample)\n",
        "X,y = pipeline.transform_xy(colors_sample)"
      ],
      "execution_count": 28,
      "outputs": []
    },
    {
      "cell_type": "markdown",
      "metadata": {
        "id": "iHtYVCkTi-6b",
        "colab_type": "text"
      },
      "source": [
        "I will run through the same process with a few classifiers, what I take away from each step is described at the end of each classifier section to be more consise. Training the classifier, running a crossval score for the f1 score, checking the errors graph and then the examples."
      ]
    },
    {
      "cell_type": "markdown",
      "metadata": {
        "id": "qtfwwQSZTafY",
        "colab_type": "text"
      },
      "source": [
        "First I will be training a decision tree classifier"
      ]
    },
    {
      "cell_type": "code",
      "metadata": {
        "id": "i9buYZ5x-kHh",
        "colab_type": "code",
        "colab": {}
      },
      "source": [
        "#Training a DecisionTreeClassifier on the smaller sample of testing data\n",
        "dt_clf = DecisionTreeClassifier()"
      ],
      "execution_count": 29,
      "outputs": []
    },
    {
      "cell_type": "markdown",
      "metadata": {
        "id": "-B81WZ4JTeUl",
        "colab_type": "text"
      },
      "source": [
        "f1 score is a good metric to use to measure the quality of this model because it balances the metrics precision and recall. The client never specified any specific goals of the program so f1 score is an all around balanced metric. I will be using f1 score to measure all of these models justified with this same argument."
      ]
    },
    {
      "cell_type": "code",
      "metadata": {
        "id": "JQK8H_OTk3dn",
        "colab_type": "code",
        "colab": {
          "base_uri": "https://localhost:8080/",
          "height": 34
        },
        "outputId": "82e296ea-85a3-4a40-f91a-dc940b3916ca"
      },
      "source": [
        "#running a cross val score 3 times to find the f1 score of this model. Takes a very long time.\n",
        "cross_val_score(dt_clf, X, y, scoring='f1_micro', cv=3)"
      ],
      "execution_count": 30,
      "outputs": [
        {
          "output_type": "execute_result",
          "data": {
            "text/plain": [
              "array([0.33947751, 0.34342734, 0.33781443])"
            ]
          },
          "metadata": {
            "tags": []
          },
          "execution_count": 30
        }
      ]
    },
    {
      "cell_type": "code",
      "metadata": {
        "id": "OMoD7iaek-M0",
        "colab_type": "code",
        "colab": {
          "base_uri": "https://localhost:8080/",
          "height": 51
        },
        "outputId": "19f68eb0-49af-44fa-a80e-2447148db495"
      },
      "source": [
        "dt_clf.fit(X, y).predict(pipeline.transform(colors_sample))"
      ],
      "execution_count": 31,
      "outputs": [
        {
          "output_type": "execute_result",
          "data": {
            "text/plain": [
              "array(['sky blue', 'olive', 'pink', ..., 'orange', 'yellow', 'magenta'],\n",
              "      dtype=object)"
            ]
          },
          "metadata": {
            "tags": []
          },
          "execution_count": 31
        }
      ]
    },
    {
      "cell_type": "code",
      "metadata": {
        "id": "G1sE32FG7mR0",
        "colab_type": "code",
        "colab": {}
      },
      "source": [
        "dt_pipeline = SupervisedPipeline(\n",
        "    RemoveBadData(300, ['green', 'purple', 'blue']), \n",
        "    \"colorname\",        # column with label\n",
        "    preprocessor,    # cleans data and extracts features\n",
        "    dt_clf\n",
        "    \n",
        ")\n",
        "\n",
        "dt_pipeline.fit(colors_sample)\n",
        "pass"
      ],
      "execution_count": 32,
      "outputs": []
    },
    {
      "cell_type": "code",
      "metadata": {
        "id": "0jiURIGuLjnr",
        "colab_type": "code",
        "colab": {
          "base_uri": "https://localhost:8080/",
          "height": 248
        },
        "outputId": "a333cbc1-380c-40c8-8627-4d2cf16f4fb2"
      },
      "source": [
        "show_errors(dt_pipeline, colors_sample)"
      ],
      "execution_count": 33,
      "outputs": [
        {
          "output_type": "display_data",
          "data": {
            "image/png": "[encoded data removed]",
            "text/plain": [
              "<Figure size 432x288 with 1 Axes>"
            ]
          },
          "metadata": {
            "tags": [],
            "needs_background": "light"
          }
        }
      ]
    },
    {
      "cell_type": "code",
      "metadata": {
        "id": "lRImuaWJL6cu",
        "colab_type": "code",
        "colab": {
          "base_uri": "https://localhost:8080/",
          "height": 258
        },
        "outputId": "0c614371-3ce5-4a83-b1f4-b86e630e32d6"
      },
      "source": [
        "show_examples(dt_pipeline)"
      ],
      "execution_count": 34,
      "outputs": [
        {
          "output_type": "display_data",
          "data": {
            "image/png": "[encoded data removed]",
            "text/plain": [
              "<Figure size 432x288 with 15 Axes>"
            ]
          },
          "metadata": {
            "tags": [],
            "needs_background": "light"
          }
        }
      ]
    },
    {
      "cell_type": "code",
      "metadata": {
        "id": "MVBl52cwUzWV",
        "colab_type": "code",
        "colab": {}
      },
      "source": [
        "# Get the whole set feature values and target values as separate variables to use in the minibatch classifier\n",
        "X_train = train_set[['r', 'g', 'b']]\n",
        "y_train = train_set.colorname"
      ],
      "execution_count": 35,
      "outputs": []
    },
    {
      "cell_type": "markdown",
      "metadata": {
        "id": "2HYL5fb8ONtG",
        "colab_type": "text"
      },
      "source": [
        "This model pretty really well when classifying example data, but technically is only is getting about a third of the classifications correct each time. This may be because it was only given a tiny sample of the training set or that it is yet to recieve fine tuning. Another wrinkle is that there are many different color names that one color could be classified as, and it may even look right while not being the \"correct\" one. This is the case when looking at the example set, all the colors look correct but are not the specific colorname they may have started with making them show up as red on show_errors. Common errors this makes is with red, white and gray.\n",
        "\n",
        "\n",
        "This will most likely be one of the classifiers I will bring into the next step or possibly include in an ensemble of diverse models. "
      ]
    },
    {
      "cell_type": "markdown",
      "metadata": {
        "id": "CN3eugeUXLz6",
        "colab_type": "text"
      },
      "source": [
        "Next I will be training a Random Forest Classifier"
      ]
    },
    {
      "cell_type": "code",
      "metadata": {
        "id": "HajchAjk6lCs",
        "colab_type": "code",
        "colab": {
          "base_uri": "https://localhost:8080/",
          "height": 34
        },
        "outputId": "88d263ce-d3df-4591-9ed7-68f75ee66135"
      },
      "source": [
        " #Training a RandomForestClassifier on the smaller sample of testing data\n",
        "rf_clf = RandomForestClassifier(n_estimators=70, max_depth = 3, min_samples_leaf=300, n_jobs=-1)\n",
        "rf_clf.fit(X, y)\n",
        "#Running a corss val score to determine the f1 score of this model\n",
        "cross_val_score(rf_clf, X, y, scoring='f1_micro', cv=3)"
      ],
      "execution_count": 36,
      "outputs": [
        {
          "output_type": "execute_result",
          "data": {
            "text/plain": [
              "array([0.34141778, 0.3498718 , 0.31744162])"
            ]
          },
          "metadata": {
            "tags": []
          },
          "execution_count": 36
        }
      ]
    },
    {
      "cell_type": "code",
      "metadata": {
        "id": "biqj5y7197AG",
        "colab_type": "code",
        "colab": {}
      },
      "source": [
        "rf_pipeline = SupervisedPipeline(\n",
        "    RemoveBadData(300, ['green', 'purple', 'blue']), \n",
        "    \"colorname\",        # column with label\n",
        "    preprocessor,    # cleans data and extracts features\n",
        "    rf_clf\n",
        "    \n",
        ")\n",
        "\n",
        "rf_pipeline.fit(colors_sample)\n",
        "pass"
      ],
      "execution_count": 37,
      "outputs": []
    },
    {
      "cell_type": "code",
      "metadata": {
        "id": "OQts_9e_gras",
        "colab_type": "code",
        "colab": {
          "base_uri": "https://localhost:8080/",
          "height": 248
        },
        "outputId": "f3afddc6-888e-44d1-b73b-2de8ead986e8"
      },
      "source": [
        "show_errors(rf_pipeline, colors_sample)"
      ],
      "execution_count": 38,
      "outputs": [
        {
          "output_type": "display_data",
          "data": {
            "image/png": "[encoded data removed]",
            "text/plain": [
              "<Figure size 432x288 with 1 Axes>"
            ]
          },
          "metadata": {
            "tags": [],
            "needs_background": "light"
          }
        }
      ]
    },
    {
      "cell_type": "code",
      "metadata": {
        "id": "GfDtus8-iTz8",
        "colab_type": "code",
        "colab": {
          "base_uri": "https://localhost:8080/",
          "height": 258
        },
        "outputId": "08da3747-848a-47f0-80b7-a50d4a40a7e2"
      },
      "source": [
        "show_examples(rf_pipeline)"
      ],
      "execution_count": 39,
      "outputs": [
        {
          "output_type": "display_data",
          "data": {
            "image/png": "[encoded data removed]",
            "text/plain": [
              "<Figure size 432x288 with 15 Axes>"
            ]
          },
          "metadata": {
            "tags": [],
            "needs_background": "light"
          }
        }
      ]
    },
    {
      "cell_type": "markdown",
      "metadata": {
        "id": "hCPom8LMRl4q",
        "colab_type": "text"
      },
      "source": [
        "This model does a fairly good job classifying the data, but it calls too many colors blue purple and green and brown. This probably means the colors appear too many times in the data and should be removed to stop skewing the classifier. The f1 score is around .33 which is fairly good considering that only takes the specific correct name into account as discussed in the last classifier. One thing this classifier and the decision tree both struggle with is white gray and blacks. One error specific to this classifier is classifying too many colors as brown.\n",
        "\n",
        "This would be a good piece of an ensemble with different classifiers which make different errors."
      ]
    },
    {
      "cell_type": "code",
      "metadata": {
        "id": "-J_iZleaikJo",
        "colab_type": "code",
        "colab": {}
      },
      "source": [
        "from sklearn.base import BaseEstimator, ClassifierMixin\n",
        "class MiniBatchClassifier(BaseEstimator, ClassifierMixin):\n",
        "  def __init__(self, clf, n_iter=5, mini_batch_size=25000):\n",
        "    \"\"\"\n",
        "    clf is the underlying classifier to use, it must have a partial_fit method\n",
        "    n_iter is the number of iterations to go through all data samples\n",
        "    mini_batch_size is how much data will be given to partial_fit at a time\n",
        "    \"\"\"\n",
        "    self.clf = clf\n",
        "    self.n_iter = n_iter\n",
        "    self.mini_batch_size = mini_batch_size\n",
        "  def fit(self, X, y):\n",
        "    # Performs mini-batches\n",
        "    import random\n",
        "    # Convert args and setup basic information\n",
        "    X = np.asanyarray(X)\n",
        "    y = np.asanyarray(y)\n",
        "    classes = np.unique(y)\n",
        "    indices = list(range(len(X)))\n",
        "    for iter in range(self.n_iter):\n",
        "      # Shuffle the indices of the data\n",
        "      random.shuffle(indices)\n",
        "      for mb_start in range(0, len(indices), self.mini_batch_size):\n",
        "        # Train on a mini batch\n",
        "        inds_mb = indices[mb_start:mb_start+self.mini_batch_size]\n",
        "        X_mb = X[inds_mb]\n",
        "        y_mb = y[inds_mb]\n",
        "        self.clf.partial_fit(X_mb, y_mb, classes=classes)\n",
        "    return self\n",
        "  # Rest of the functions just defer to the trained classifier\n",
        "  def predict(self, X): return self.clf.predict(X)\n",
        "  def predict_proba(self, X): return self.clf.predict_proba(X)\n",
        "  def predict_log_proba(self, X): return self.clf.predict_log_proba(X)\n",
        "  def decision_function(self, X): return self.clf.decision_function(X)\n",
        "  def score(self, X, y, **kwargs): return self.clf.score(X, y, **kwargs)"
      ],
      "execution_count": 40,
      "outputs": []
    },
    {
      "cell_type": "markdown",
      "metadata": {
        "id": "HWhS7BlwXkWz",
        "colab_type": "text"
      },
      "source": [
        "The only model that supports online learning that we have learned about is the SGDClassifier. This means it can utilize the minibatch classifier, which would allow it to train on the full training set, not just a little sample."
      ]
    },
    {
      "cell_type": "code",
      "metadata": {
        "id": "Sc43GzTlxY--",
        "colab_type": "code",
        "colab": {
          "base_uri": "https://localhost:8080/",
          "height": 204
        },
        "outputId": "1aee231f-0b5b-4091-80ac-317522e6faf7"
      },
      "source": [
        "#Training a SGD model using the minibatch classifier\n",
        "sgd_clf = SGDClassifier() \n",
        "sgd_clf_mb = MiniBatchClassifier(sgd_clf)\n",
        "sgd_clf_mb.fit(X, y)"
      ],
      "execution_count": 41,
      "outputs": [
        {
          "output_type": "execute_result",
          "data": {
            "text/plain": [
              "MiniBatchClassifier(clf=SGDClassifier(alpha=0.0001, average=False,\n",
              "                                      class_weight=None, early_stopping=False,\n",
              "                                      epsilon=0.1, eta0=0.0, fit_intercept=True,\n",
              "                                      l1_ratio=0.15, learning_rate='optimal',\n",
              "                                      loss='hinge', max_iter=1000,\n",
              "                                      n_iter_no_change=5, n_jobs=None,\n",
              "                                      penalty='l2', power_t=0.5,\n",
              "                                      random_state=None, shuffle=True,\n",
              "                                      tol=0.001, validation_fraction=0.1,\n",
              "                                      verbose=0, warm_start=False),\n",
              "                    mini_batch_size=25000, n_iter=5)"
            ]
          },
          "metadata": {
            "tags": []
          },
          "execution_count": 41
        }
      ]
    },
    {
      "cell_type": "markdown",
      "metadata": {
        "id": "XjZt-whKw9DO",
        "colab_type": "text"
      },
      "source": [
        "I do not know if it's just a problem with my computer or if I wrote something incorrectly, but using the minibatch classifier on the entire dataset does not work, it just runs forever. I let it run for a half hour and it did not stop. It would be interesting to see if training on the entire training set helped performance, but I cannot. That being said I will just be using the sample training set and not the minibatch classifier."
      ]
    },
    {
      "cell_type": "code",
      "metadata": {
        "id": "Xy2Lz1LCVCTP",
        "colab_type": "code",
        "colab": {
          "base_uri": "https://localhost:8080/",
          "height": 119
        },
        "outputId": "e827ed5c-f449-42aa-a53f-f2f9ddfa6d87"
      },
      "source": [
        "sgd_clf = SGDClassifier()\n",
        "sgd_clf.fit(X, y)"
      ],
      "execution_count": 42,
      "outputs": [
        {
          "output_type": "execute_result",
          "data": {
            "text/plain": [
              "SGDClassifier(alpha=0.0001, average=False, class_weight=None,\n",
              "              early_stopping=False, epsilon=0.1, eta0=0.0, fit_intercept=True,\n",
              "              l1_ratio=0.15, learning_rate='optimal', loss='hinge',\n",
              "              max_iter=1000, n_iter_no_change=5, n_jobs=None, penalty='l2',\n",
              "              power_t=0.5, random_state=None, shuffle=True, tol=0.001,\n",
              "              validation_fraction=0.1, verbose=0, warm_start=False)"
            ]
          },
          "metadata": {
            "tags": []
          },
          "execution_count": 42
        }
      ]
    },
    {
      "cell_type": "code",
      "metadata": {
        "id": "UpZr6wMmuFVG",
        "colab_type": "code",
        "colab": {}
      },
      "source": [
        "sgd_pipeline = SupervisedPipeline(\n",
        "    RemoveBadData(300, ['green', 'purple', 'blue']), \n",
        "    \"colorname\",        # column with label\n",
        "    preprocessor,    # cleans data and extracts features\n",
        "    sgd_clf\n",
        "    \n",
        ")\n",
        "\n",
        "sgd_pipeline.fit(colors_sample)\n",
        "pass"
      ],
      "execution_count": 43,
      "outputs": []
    },
    {
      "cell_type": "code",
      "metadata": {
        "id": "XudsdmsUltqj",
        "colab_type": "code",
        "colab": {
          "base_uri": "https://localhost:8080/",
          "height": 34
        },
        "outputId": "bdd2142b-b5f2-4240-84e4-b221eb8b6504"
      },
      "source": [
        "#running a cross val score 3 times to find the f1 score of this model\n",
        "cross_val_score(sgd_clf, X, y, scoring='f1_micro', cv=3)"
      ],
      "execution_count": 44,
      "outputs": [
        {
          "output_type": "execute_result",
          "data": {
            "text/plain": [
              "array([0.06700852, 0.06964174, 0.21620123])"
            ]
          },
          "metadata": {
            "tags": []
          },
          "execution_count": 44
        }
      ]
    },
    {
      "cell_type": "code",
      "metadata": {
        "id": "PT7G9mUCOp3n",
        "colab_type": "code",
        "colab": {
          "base_uri": "https://localhost:8080/",
          "height": 248
        },
        "outputId": "f44f3802-be60-48e0-edcb-f24fd716f2a9"
      },
      "source": [
        "show_errors(sgd_pipeline, colors_sample)"
      ],
      "execution_count": 45,
      "outputs": [
        {
          "output_type": "display_data",
          "data": {
            "image/png": "[encoded data removed]",
            "text/plain": [
              "<Figure size 432x288 with 1 Axes>"
            ]
          },
          "metadata": {
            "tags": [],
            "needs_background": "light"
          }
        }
      ]
    },
    {
      "cell_type": "code",
      "metadata": {
        "id": "aatysaafOqIP",
        "colab_type": "code",
        "colab": {
          "base_uri": "https://localhost:8080/",
          "height": 258
        },
        "outputId": "1f99032a-83f2-4d7a-ee22-0e859cc07223"
      },
      "source": [
        "show_examples(sgd_pipeline)"
      ],
      "execution_count": 46,
      "outputs": [
        {
          "output_type": "display_data",
          "data": {
            "image/png": "[encoded data removed]",
            "text/plain": [
              "<Figure size 432x288 with 15 Axes>"
            ]
          },
          "metadata": {
            "tags": [],
            "needs_background": "light"
          }
        }
      ]
    },
    {
      "cell_type": "markdown",
      "metadata": {
        "id": "ElDIJwF4CBVb",
        "colab_type": "text"
      },
      "source": [
        "This model Is the worst so far and does not seem to do well classifying the data, only getting an f1 score of around 0.1 . While this is because there are many different color names that one color could be classified as and look right while not being the \"correct\" one, this is also because the system is not fully refined yet and was only given a sample of the training set, not all the data. Because the SGD model is one of the only ones we have studied that supports online learning, if that is what the client wanted I would have to contine with this model in the next step. \n",
        "\n",
        "\n",
        "This classifier is very good at classifying colors near the verticies of the graph, where 2 values are high and one is low. \n",
        "\n",
        "All of this being said, one easy way to greatly increase the effectiveness of this model is tweaking the hyperparameters becuse an sgdclassifier has so many of them. The performance of this model is already so low however, and the minibatches aren't working, so I will not be continuing with it."
      ]
    },
    {
      "cell_type": "markdown",
      "metadata": {
        "id": "MC9ZIWyMcB85",
        "colab_type": "text"
      },
      "source": [
        "Because each model, and this one in particular, seem to be struggling when classifying gray, white and black, I am going back up to preparing the data to create a \"closeness\" attribute. This is because these three problem colors all have the same r g and b values and would be very close. "
      ]
    },
    {
      "cell_type": "markdown",
      "metadata": {
        "id": "VMHLG1ZfdFkB",
        "colab_type": "text"
      },
      "source": [
        "Fine-Tune the System\n",
        "-------------------------\n",
        "\n",
        "Run a `GridSearchCV`  and/or `RandomSearchCV` on your top 2 models from the last step obtaining the best values for the hyperparameters (including any you set up specifically for this dataset)."
      ]
    },
    {
      "cell_type": "markdown",
      "metadata": {
        "id": "oqh4E5jMONgy",
        "colab_type": "text"
      },
      "source": [
        "My decision tree classifer performed the best out of any of the models I used, so I will continue with that one and try to make refine the hyperparameters to fine tune the system"
      ]
    },
    {
      "cell_type": "code",
      "metadata": {
        "id": "9QLvlagW9CrW",
        "colab_type": "code",
        "colab": {}
      },
      "source": [
        ""
      ],
      "execution_count": 46,
      "outputs": []
    },
    {
      "cell_type": "markdown",
      "metadata": {
        "id": "AFgATDylyDqy",
        "colab_type": "text"
      },
      "source": [
        "Running a gridsearch on the decision tree classifier to find the best values for max depth and min samples leaf. These values are very important when dealing with decision trees and random forests (and extra trees) because they heavily determine the regularization of the model and can reduce overfitting."
      ]
    },
    {
      "cell_type": "code",
      "metadata": {
        "id": "smUTRuuox2cv",
        "colab_type": "code",
        "colab": {
          "base_uri": "https://localhost:8080/",
          "height": 544
        },
        "outputId": "801476ed-283f-4754-b0bb-2a5a3da1df58"
      },
      "source": [
        "pipeline = SupervisedPipeline(RemoveBadData(300, dont_use=['purple', 'blue', 'green']), \"colorname\", preprocessor, dt_clf)\n",
        "\n",
        "param_grid = {'estimator__max_depth': [2, 3, 4, 5],\n",
        "    'estimator__min_samples_leaf': [10, 50, 300, 400, 500]\n",
        "}\n",
        "\n",
        "dt_opt = GridSearchCV(pipeline, param_grid, cv=2)\n",
        "dt_opt.fit(*pipeline.split_xy(train_set)) # magic here!"
      ],
      "execution_count": 47,
      "outputs": [
        {
          "output_type": "execute_result",
          "data": {
            "text/plain": [
              "GridSearchCV(cv=2, error_score=nan,\n",
              "             estimator=SupervisedPipeline(estimator=DecisionTreeClassifier(ccp_alpha=0.0,\n",
              "                                                                           class_weight=None,\n",
              "                                                                           criterion='gini',\n",
              "                                                                           max_depth=None,\n",
              "                                                                           max_features=None,\n",
              "                                                                           max_leaf_nodes=None,\n",
              "                                                                           min_impurity_decrease=0.0,\n",
              "                                                                           min_impurity_split=None,\n",
              "                                                                           min_samples_leaf=1,\n",
              "                                                                           min_samples_split=2,\n",
              "                                                                           min_weight_fraction_leaf=0.0,\n",
              "                                                                           presort='deprecated',\n",
              "                                                                           random_state=...\n",
              "                                                                                                                      feature_range=(0,\n",
              "                                                                                                                                     255)))],\n",
              "                                                                                                 verbose=False),\n",
              "                                                                                        ['r',\n",
              "                                                                                         'g',\n",
              "                                                                                         'b'])],\n",
              "                                                                         verbose=False),\n",
              "                                          train_preprocessor=RemoveBadData(dont_use=['purple',\n",
              "                                                                                     'blue',\n",
              "                                                                                     'green'],\n",
              "                                                                           n=300)),\n",
              "             iid='deprecated', n_jobs=None,\n",
              "             param_grid={'estimator__max_depth': [2, 3, 4, 5],\n",
              "                         'estimator__min_samples_leaf': [10, 50, 300, 400,\n",
              "                                                         500]},\n",
              "             pre_dispatch='2*n_jobs', refit=True, return_train_score=False,\n",
              "             scoring=None, verbose=0)"
            ]
          },
          "metadata": {
            "tags": []
          },
          "execution_count": 47
        }
      ]
    },
    {
      "cell_type": "code",
      "metadata": {
        "id": "46H4co03PvtP",
        "colab_type": "code",
        "colab": {
          "base_uri": "https://localhost:8080/",
          "height": 34
        },
        "outputId": "3cd05f61-9c85-430d-e073-03da073612f8"
      },
      "source": [
        "dt_opt.best_params_"
      ],
      "execution_count": 48,
      "outputs": [
        {
          "output_type": "execute_result",
          "data": {
            "text/plain": [
              "{'estimator__max_depth': 5, 'estimator__min_samples_leaf': 10}"
            ]
          },
          "metadata": {
            "tags": []
          },
          "execution_count": 48
        }
      ]
    },
    {
      "cell_type": "markdown",
      "metadata": {
        "id": "yZHP18uBQJZD",
        "colab_type": "text"
      },
      "source": [
        "Doing another gridsearch with values ranging closer to the 'best_params_' trying to find if there is are better values for each."
      ]
    },
    {
      "cell_type": "code",
      "metadata": {
        "id": "KTRzZufZPy2F",
        "colab_type": "code",
        "colab": {
          "base_uri": "https://localhost:8080/",
          "height": 544
        },
        "outputId": "15da3e17-b832-4c23-9665-193c45735e89"
      },
      "source": [
        "pipeline = SupervisedPipeline(RemoveBadData(300, dont_use=['purple', 'blue', 'green']), \"colorname\", preprocessor, dt_clf)\n",
        "\n",
        "param_grid = {'estimator__max_depth': [5, 10, 15],\n",
        "    'estimator__min_samples_leaf': [5, 10, 20]\n",
        "}\n",
        "\n",
        "dt_opt = GridSearchCV(pipeline, param_grid, cv=2)\n",
        "dt_opt.fit(*pipeline.split_xy(train_set)) # magic here!"
      ],
      "execution_count": 49,
      "outputs": [
        {
          "output_type": "execute_result",
          "data": {
            "text/plain": [
              "GridSearchCV(cv=2, error_score=nan,\n",
              "             estimator=SupervisedPipeline(estimator=DecisionTreeClassifier(ccp_alpha=0.0,\n",
              "                                                                           class_weight=None,\n",
              "                                                                           criterion='gini',\n",
              "                                                                           max_depth=None,\n",
              "                                                                           max_features=None,\n",
              "                                                                           max_leaf_nodes=None,\n",
              "                                                                           min_impurity_decrease=0.0,\n",
              "                                                                           min_impurity_split=None,\n",
              "                                                                           min_samples_leaf=1,\n",
              "                                                                           min_samples_split=2,\n",
              "                                                                           min_weight_fraction_leaf=0.0,\n",
              "                                                                           presort='deprecated',\n",
              "                                                                           random_state=...\n",
              "                                                                                                         MinMaxScaler(copy=True,\n",
              "                                                                                                                      feature_range=(0,\n",
              "                                                                                                                                     255)))],\n",
              "                                                                                                 verbose=False),\n",
              "                                                                                        ['r',\n",
              "                                                                                         'g',\n",
              "                                                                                         'b'])],\n",
              "                                                                         verbose=False),\n",
              "                                          train_preprocessor=RemoveBadData(dont_use=['purple',\n",
              "                                                                                     'blue',\n",
              "                                                                                     'green'],\n",
              "                                                                           n=300)),\n",
              "             iid='deprecated', n_jobs=None,\n",
              "             param_grid={'estimator__max_depth': [5, 10, 15],\n",
              "                         'estimator__min_samples_leaf': [5, 10, 20]},\n",
              "             pre_dispatch='2*n_jobs', refit=True, return_train_score=False,\n",
              "             scoring=None, verbose=0)"
            ]
          },
          "metadata": {
            "tags": []
          },
          "execution_count": 49
        }
      ]
    },
    {
      "cell_type": "code",
      "metadata": {
        "id": "2b00fHzwUFrr",
        "colab_type": "code",
        "colab": {
          "base_uri": "https://localhost:8080/",
          "height": 34
        },
        "outputId": "f9f7b723-449f-425b-e54b-dc380a49078a"
      },
      "source": [
        "dt_opt.best_params_"
      ],
      "execution_count": 50,
      "outputs": [
        {
          "output_type": "execute_result",
          "data": {
            "text/plain": [
              "{'estimator__max_depth': 10, 'estimator__min_samples_leaf': 20}"
            ]
          },
          "metadata": {
            "tags": []
          },
          "execution_count": 50
        }
      ]
    },
    {
      "cell_type": "markdown",
      "metadata": {
        "id": "jOga62skUS0K",
        "colab_type": "text"
      },
      "source": [
        "Repeating the process described in the cells above"
      ]
    },
    {
      "cell_type": "code",
      "metadata": {
        "id": "SX4uAuDWmL8F",
        "colab_type": "code",
        "colab": {
          "base_uri": "https://localhost:8080/",
          "height": 341
        },
        "outputId": "7e053bd6-0fa3-4d77-ce6a-ff387f9b447a"
      },
      "source": [
        "pipeline = SupervisedPipeline(RemoveBadData(300, dont_use=['purple', 'blue', 'green']), \"colorname\", preprocessor, rf_clf)\n",
        "\n",
        "param_grid = { 'estimator__max_depth': [9, 10, 11],\n",
        "               'estimator__min_samples_leaf': [20, 30, 40]\n",
        "}\n",
        "\n",
        "rf_opt = GridSearchCV(pipeline, param_grid, cv=2)\n",
        "rf_opt.fit(*pipeline.split_xy(train_set)) "
      ],
      "execution_count": 51,
      "outputs": [
        {
          "output_type": "error",
          "ename": "KeyboardInterrupt",
          "evalue": "ignored",
          "traceback": [
            "\u001b[0;31m---------------------------------------------------------------------------\u001b[0m",
            "\u001b[0;31mKeyboardInterrupt\u001b[0m                         Traceback (most recent call last)",
            "\u001b[0;32m<ipython-input-51-3b24983ef9b3>\u001b[0m in \u001b[0;36m<module>\u001b[0;34m()\u001b[0m\n\u001b[1;32m      6\u001b[0m \u001b[0;34m\u001b[0m\u001b[0m\n\u001b[1;32m      7\u001b[0m \u001b[0mrf_opt\u001b[0m \u001b[0;34m=\u001b[0m \u001b[0mGridSearchCV\u001b[0m\u001b[0;34m(\u001b[0m\u001b[0mpipeline\u001b[0m\u001b[0;34m,\u001b[0m \u001b[0mparam_grid\u001b[0m\u001b[0;34m,\u001b[0m \u001b[0mcv\u001b[0m\u001b[0;34m=\u001b[0m\u001b[0;36m2\u001b[0m\u001b[0;34m)\u001b[0m\u001b[0;34m\u001b[0m\u001b[0;34m\u001b[0m\u001b[0m\n\u001b[0;32m----> 8\u001b[0;31m \u001b[0mrf_opt\u001b[0m\u001b[0;34m.\u001b[0m\u001b[0mfit\u001b[0m\u001b[0;34m(\u001b[0m\u001b[0;34m*\u001b[0m\u001b[0mpipeline\u001b[0m\u001b[0;34m.\u001b[0m\u001b[0msplit_xy\u001b[0m\u001b[0;34m(\u001b[0m\u001b[0mtrain_set\u001b[0m\u001b[0;34m)\u001b[0m\u001b[0;34m)\u001b[0m\u001b[0;34m\u001b[0m\u001b[0;34m\u001b[0m\u001b[0m\n\u001b[0m",
            "\u001b[0;32m/usr/local/lib/python3.6/dist-packages/sklearn/model_selection/_search.py\u001b[0m in \u001b[0;36mfit\u001b[0;34m(self, X, y, groups, **fit_params)\u001b[0m\n\u001b[1;32m    708\u001b[0m                 \u001b[0;32mreturn\u001b[0m \u001b[0mresults\u001b[0m\u001b[0;34m\u001b[0m\u001b[0;34m\u001b[0m\u001b[0m\n\u001b[1;32m    709\u001b[0m \u001b[0;34m\u001b[0m\u001b[0m\n\u001b[0;32m--> 710\u001b[0;31m             \u001b[0mself\u001b[0m\u001b[0;34m.\u001b[0m\u001b[0m_run_search\u001b[0m\u001b[0;34m(\u001b[0m\u001b[0mevaluate_candidates\u001b[0m\u001b[0;34m)\u001b[0m\u001b[0;34m\u001b[0m\u001b[0;34m\u001b[0m\u001b[0m\n\u001b[0m\u001b[1;32m    711\u001b[0m \u001b[0;34m\u001b[0m\u001b[0m\n\u001b[1;32m    712\u001b[0m         \u001b[0;31m# For multi-metric evaluation, store the best_index_, best_params_ and\u001b[0m\u001b[0;34m\u001b[0m\u001b[0;34m\u001b[0m\u001b[0;34m\u001b[0m\u001b[0m\n",
            "\u001b[0;32m/usr/local/lib/python3.6/dist-packages/sklearn/model_selection/_search.py\u001b[0m in \u001b[0;36m_run_search\u001b[0;34m(self, evaluate_candidates)\u001b[0m\n\u001b[1;32m   1149\u001b[0m     \u001b[0;32mdef\u001b[0m \u001b[0m_run_search\u001b[0m\u001b[0;34m(\u001b[0m\u001b[0mself\u001b[0m\u001b[0;34m,\u001b[0m \u001b[0mevaluate_candidates\u001b[0m\u001b[0;34m)\u001b[0m\u001b[0;34m:\u001b[0m\u001b[0;34m\u001b[0m\u001b[0;34m\u001b[0m\u001b[0m\n\u001b[1;32m   1150\u001b[0m         \u001b[0;34m\"\"\"Search all candidates in param_grid\"\"\"\u001b[0m\u001b[0;34m\u001b[0m\u001b[0;34m\u001b[0m\u001b[0m\n\u001b[0;32m-> 1151\u001b[0;31m         \u001b[0mevaluate_candidates\u001b[0m\u001b[0;34m(\u001b[0m\u001b[0mParameterGrid\u001b[0m\u001b[0;34m(\u001b[0m\u001b[0mself\u001b[0m\u001b[0;34m.\u001b[0m\u001b[0mparam_grid\u001b[0m\u001b[0;34m)\u001b[0m\u001b[0;34m)\u001b[0m\u001b[0;34m\u001b[0m\u001b[0;34m\u001b[0m\u001b[0m\n\u001b[0m\u001b[1;32m   1152\u001b[0m \u001b[0;34m\u001b[0m\u001b[0m\n\u001b[1;32m   1153\u001b[0m \u001b[0;34m\u001b[0m\u001b[0m\n",
            "\u001b[0;32m/usr/local/lib/python3.6/dist-packages/sklearn/model_selection/_search.py\u001b[0m in \u001b[0;36mevaluate_candidates\u001b[0;34m(candidate_params)\u001b[0m\n\u001b[1;32m    687\u001b[0m                                \u001b[0;32mfor\u001b[0m \u001b[0mparameters\u001b[0m\u001b[0;34m,\u001b[0m \u001b[0;34m(\u001b[0m\u001b[0mtrain\u001b[0m\u001b[0;34m,\u001b[0m \u001b[0mtest\u001b[0m\u001b[0;34m)\u001b[0m\u001b[0;34m\u001b[0m\u001b[0;34m\u001b[0m\u001b[0m\n\u001b[1;32m    688\u001b[0m                                in product(candidate_params,\n\u001b[0;32m--> 689\u001b[0;31m                                           cv.split(X, y, groups)))\n\u001b[0m\u001b[1;32m    690\u001b[0m \u001b[0;34m\u001b[0m\u001b[0m\n\u001b[1;32m    691\u001b[0m                 \u001b[0;32mif\u001b[0m \u001b[0mlen\u001b[0m\u001b[0;34m(\u001b[0m\u001b[0mout\u001b[0m\u001b[0;34m)\u001b[0m \u001b[0;34m<\u001b[0m \u001b[0;36m1\u001b[0m\u001b[0;34m:\u001b[0m\u001b[0;34m\u001b[0m\u001b[0;34m\u001b[0m\u001b[0m\n",
            "\u001b[0;32m/usr/local/lib/python3.6/dist-packages/joblib/parallel.py\u001b[0m in \u001b[0;36m__call__\u001b[0;34m(self, iterable)\u001b[0m\n\u001b[1;32m   1030\u001b[0m                 \u001b[0mself\u001b[0m\u001b[0;34m.\u001b[0m\u001b[0m_iterating\u001b[0m \u001b[0;34m=\u001b[0m \u001b[0mself\u001b[0m\u001b[0;34m.\u001b[0m\u001b[0m_original_iterator\u001b[0m \u001b[0;32mis\u001b[0m \u001b[0;32mnot\u001b[0m \u001b[0;32mNone\u001b[0m\u001b[0;34m\u001b[0m\u001b[0;34m\u001b[0m\u001b[0m\n\u001b[1;32m   1031\u001b[0m \u001b[0;34m\u001b[0m\u001b[0m\n\u001b[0;32m-> 1032\u001b[0;31m             \u001b[0;32mwhile\u001b[0m \u001b[0mself\u001b[0m\u001b[0;34m.\u001b[0m\u001b[0mdispatch_one_batch\u001b[0m\u001b[0;34m(\u001b[0m\u001b[0miterator\u001b[0m\u001b[0;34m)\u001b[0m\u001b[0;34m:\u001b[0m\u001b[0;34m\u001b[0m\u001b[0;34m\u001b[0m\u001b[0m\n\u001b[0m\u001b[1;32m   1033\u001b[0m                 \u001b[0;32mpass\u001b[0m\u001b[0;34m\u001b[0m\u001b[0;34m\u001b[0m\u001b[0m\n\u001b[1;32m   1034\u001b[0m \u001b[0;34m\u001b[0m\u001b[0m\n",
            "\u001b[0;32m/usr/local/lib/python3.6/dist-packages/joblib/parallel.py\u001b[0m in \u001b[0;36mdispatch_one_batch\u001b[0;34m(self, iterator)\u001b[0m\n\u001b[1;32m    845\u001b[0m                 \u001b[0;32mreturn\u001b[0m \u001b[0;32mFalse\u001b[0m\u001b[0;34m\u001b[0m\u001b[0;34m\u001b[0m\u001b[0m\n\u001b[1;32m    846\u001b[0m             \u001b[0;32melse\u001b[0m\u001b[0;34m:\u001b[0m\u001b[0;34m\u001b[0m\u001b[0;34m\u001b[0m\u001b[0m\n\u001b[0;32m--> 847\u001b[0;31m                 \u001b[0mself\u001b[0m\u001b[0;34m.\u001b[0m\u001b[0m_dispatch\u001b[0m\u001b[0;34m(\u001b[0m\u001b[0mtasks\u001b[0m\u001b[0;34m)\u001b[0m\u001b[0;34m\u001b[0m\u001b[0;34m\u001b[0m\u001b[0m\n\u001b[0m\u001b[1;32m    848\u001b[0m                 \u001b[0;32mreturn\u001b[0m \u001b[0;32mTrue\u001b[0m\u001b[0;34m\u001b[0m\u001b[0;34m\u001b[0m\u001b[0m\n\u001b[1;32m    849\u001b[0m \u001b[0;34m\u001b[0m\u001b[0m\n",
            "\u001b[0;32m/usr/local/lib/python3.6/dist-packages/joblib/parallel.py\u001b[0m in \u001b[0;36m_dispatch\u001b[0;34m(self, batch)\u001b[0m\n\u001b[1;32m    763\u001b[0m         \u001b[0;32mwith\u001b[0m \u001b[0mself\u001b[0m\u001b[0;34m.\u001b[0m\u001b[0m_lock\u001b[0m\u001b[0;34m:\u001b[0m\u001b[0;34m\u001b[0m\u001b[0;34m\u001b[0m\u001b[0m\n\u001b[1;32m    764\u001b[0m             \u001b[0mjob_idx\u001b[0m \u001b[0;34m=\u001b[0m \u001b[0mlen\u001b[0m\u001b[0;34m(\u001b[0m\u001b[0mself\u001b[0m\u001b[0;34m.\u001b[0m\u001b[0m_jobs\u001b[0m\u001b[0;34m)\u001b[0m\u001b[0;34m\u001b[0m\u001b[0;34m\u001b[0m\u001b[0m\n\u001b[0;32m--> 765\u001b[0;31m             \u001b[0mjob\u001b[0m \u001b[0;34m=\u001b[0m \u001b[0mself\u001b[0m\u001b[0;34m.\u001b[0m\u001b[0m_backend\u001b[0m\u001b[0;34m.\u001b[0m\u001b[0mapply_async\u001b[0m\u001b[0;34m(\u001b[0m\u001b[0mbatch\u001b[0m\u001b[0;34m,\u001b[0m \u001b[0mcallback\u001b[0m\u001b[0;34m=\u001b[0m\u001b[0mcb\u001b[0m\u001b[0;34m)\u001b[0m\u001b[0;34m\u001b[0m\u001b[0;34m\u001b[0m\u001b[0m\n\u001b[0m\u001b[1;32m    766\u001b[0m             \u001b[0;31m# A job can complete so quickly than its callback is\u001b[0m\u001b[0;34m\u001b[0m\u001b[0;34m\u001b[0m\u001b[0;34m\u001b[0m\u001b[0m\n\u001b[1;32m    767\u001b[0m             \u001b[0;31m# called before we get here, causing self._jobs to\u001b[0m\u001b[0;34m\u001b[0m\u001b[0;34m\u001b[0m\u001b[0;34m\u001b[0m\u001b[0m\n",
            "\u001b[0;32m/usr/local/lib/python3.6/dist-packages/joblib/_parallel_backends.py\u001b[0m in \u001b[0;36mapply_async\u001b[0;34m(self, func, callback)\u001b[0m\n\u001b[1;32m    206\u001b[0m     \u001b[0;32mdef\u001b[0m \u001b[0mapply_async\u001b[0m\u001b[0;34m(\u001b[0m\u001b[0mself\u001b[0m\u001b[0;34m,\u001b[0m \u001b[0mfunc\u001b[0m\u001b[0;34m,\u001b[0m \u001b[0mcallback\u001b[0m\u001b[0;34m=\u001b[0m\u001b[0;32mNone\u001b[0m\u001b[0;34m)\u001b[0m\u001b[0;34m:\u001b[0m\u001b[0;34m\u001b[0m\u001b[0;34m\u001b[0m\u001b[0m\n\u001b[1;32m    207\u001b[0m         \u001b[0;34m\"\"\"Schedule a func to be run\"\"\"\u001b[0m\u001b[0;34m\u001b[0m\u001b[0;34m\u001b[0m\u001b[0m\n\u001b[0;32m--> 208\u001b[0;31m         \u001b[0mresult\u001b[0m \u001b[0;34m=\u001b[0m \u001b[0mImmediateResult\u001b[0m\u001b[0;34m(\u001b[0m\u001b[0mfunc\u001b[0m\u001b[0;34m)\u001b[0m\u001b[0;34m\u001b[0m\u001b[0;34m\u001b[0m\u001b[0m\n\u001b[0m\u001b[1;32m    209\u001b[0m         \u001b[0;32mif\u001b[0m \u001b[0mcallback\u001b[0m\u001b[0;34m:\u001b[0m\u001b[0;34m\u001b[0m\u001b[0;34m\u001b[0m\u001b[0m\n\u001b[1;32m    210\u001b[0m             \u001b[0mcallback\u001b[0m\u001b[0;34m(\u001b[0m\u001b[0mresult\u001b[0m\u001b[0;34m)\u001b[0m\u001b[0;34m\u001b[0m\u001b[0;34m\u001b[0m\u001b[0m\n",
            "\u001b[0;32m/usr/local/lib/python3.6/dist-packages/joblib/_parallel_backends.py\u001b[0m in \u001b[0;36m__init__\u001b[0;34m(self, batch)\u001b[0m\n\u001b[1;32m    570\u001b[0m         \u001b[0;31m# Don't delay the application, to avoid keeping the input\u001b[0m\u001b[0;34m\u001b[0m\u001b[0;34m\u001b[0m\u001b[0;34m\u001b[0m\u001b[0m\n\u001b[1;32m    571\u001b[0m         \u001b[0;31m# arguments in memory\u001b[0m\u001b[0;34m\u001b[0m\u001b[0;34m\u001b[0m\u001b[0;34m\u001b[0m\u001b[0m\n\u001b[0;32m--> 572\u001b[0;31m         \u001b[0mself\u001b[0m\u001b[0;34m.\u001b[0m\u001b[0mresults\u001b[0m \u001b[0;34m=\u001b[0m \u001b[0mbatch\u001b[0m\u001b[0;34m(\u001b[0m\u001b[0;34m)\u001b[0m\u001b[0;34m\u001b[0m\u001b[0;34m\u001b[0m\u001b[0m\n\u001b[0m\u001b[1;32m    573\u001b[0m \u001b[0;34m\u001b[0m\u001b[0m\n\u001b[1;32m    574\u001b[0m     \u001b[0;32mdef\u001b[0m \u001b[0mget\u001b[0m\u001b[0;34m(\u001b[0m\u001b[0mself\u001b[0m\u001b[0;34m)\u001b[0m\u001b[0;34m:\u001b[0m\u001b[0;34m\u001b[0m\u001b[0;34m\u001b[0m\u001b[0m\n",
            "\u001b[0;32m/usr/local/lib/python3.6/dist-packages/joblib/parallel.py\u001b[0m in \u001b[0;36m__call__\u001b[0;34m(self)\u001b[0m\n\u001b[1;32m    251\u001b[0m         \u001b[0;32mwith\u001b[0m \u001b[0mparallel_backend\u001b[0m\u001b[0;34m(\u001b[0m\u001b[0mself\u001b[0m\u001b[0;34m.\u001b[0m\u001b[0m_backend\u001b[0m\u001b[0;34m,\u001b[0m \u001b[0mn_jobs\u001b[0m\u001b[0;34m=\u001b[0m\u001b[0mself\u001b[0m\u001b[0;34m.\u001b[0m\u001b[0m_n_jobs\u001b[0m\u001b[0;34m)\u001b[0m\u001b[0;34m:\u001b[0m\u001b[0;34m\u001b[0m\u001b[0;34m\u001b[0m\u001b[0m\n\u001b[1;32m    252\u001b[0m             return [func(*args, **kwargs)\n\u001b[0;32m--> 253\u001b[0;31m                     for func, args, kwargs in self.items]\n\u001b[0m\u001b[1;32m    254\u001b[0m \u001b[0;34m\u001b[0m\u001b[0m\n\u001b[1;32m    255\u001b[0m     \u001b[0;32mdef\u001b[0m \u001b[0m__reduce__\u001b[0m\u001b[0;34m(\u001b[0m\u001b[0mself\u001b[0m\u001b[0;34m)\u001b[0m\u001b[0;34m:\u001b[0m\u001b[0;34m\u001b[0m\u001b[0;34m\u001b[0m\u001b[0m\n",
            "\u001b[0;32m/usr/local/lib/python3.6/dist-packages/joblib/parallel.py\u001b[0m in \u001b[0;36m<listcomp>\u001b[0;34m(.0)\u001b[0m\n\u001b[1;32m    251\u001b[0m         \u001b[0;32mwith\u001b[0m \u001b[0mparallel_backend\u001b[0m\u001b[0;34m(\u001b[0m\u001b[0mself\u001b[0m\u001b[0;34m.\u001b[0m\u001b[0m_backend\u001b[0m\u001b[0;34m,\u001b[0m \u001b[0mn_jobs\u001b[0m\u001b[0;34m=\u001b[0m\u001b[0mself\u001b[0m\u001b[0;34m.\u001b[0m\u001b[0m_n_jobs\u001b[0m\u001b[0;34m)\u001b[0m\u001b[0;34m:\u001b[0m\u001b[0;34m\u001b[0m\u001b[0;34m\u001b[0m\u001b[0m\n\u001b[1;32m    252\u001b[0m             return [func(*args, **kwargs)\n\u001b[0;32m--> 253\u001b[0;31m                     for func, args, kwargs in self.items]\n\u001b[0m\u001b[1;32m    254\u001b[0m \u001b[0;34m\u001b[0m\u001b[0m\n\u001b[1;32m    255\u001b[0m     \u001b[0;32mdef\u001b[0m \u001b[0m__reduce__\u001b[0m\u001b[0;34m(\u001b[0m\u001b[0mself\u001b[0m\u001b[0;34m)\u001b[0m\u001b[0;34m:\u001b[0m\u001b[0;34m\u001b[0m\u001b[0;34m\u001b[0m\u001b[0m\n",
            "\u001b[0;32m/usr/local/lib/python3.6/dist-packages/sklearn/model_selection/_validation.py\u001b[0m in \u001b[0;36m_fit_and_score\u001b[0;34m(estimator, X, y, scorer, train, test, verbose, parameters, fit_params, return_train_score, return_parameters, return_n_test_samples, return_times, return_estimator, error_score)\u001b[0m\n\u001b[1;32m    542\u001b[0m     \u001b[0;32melse\u001b[0m\u001b[0;34m:\u001b[0m\u001b[0;34m\u001b[0m\u001b[0;34m\u001b[0m\u001b[0m\n\u001b[1;32m    543\u001b[0m         \u001b[0mfit_time\u001b[0m \u001b[0;34m=\u001b[0m \u001b[0mtime\u001b[0m\u001b[0;34m.\u001b[0m\u001b[0mtime\u001b[0m\u001b[0;34m(\u001b[0m\u001b[0;34m)\u001b[0m \u001b[0;34m-\u001b[0m \u001b[0mstart_time\u001b[0m\u001b[0;34m\u001b[0m\u001b[0;34m\u001b[0m\u001b[0m\n\u001b[0;32m--> 544\u001b[0;31m         \u001b[0mtest_scores\u001b[0m \u001b[0;34m=\u001b[0m \u001b[0m_score\u001b[0m\u001b[0;34m(\u001b[0m\u001b[0mestimator\u001b[0m\u001b[0;34m,\u001b[0m \u001b[0mX_test\u001b[0m\u001b[0;34m,\u001b[0m \u001b[0my_test\u001b[0m\u001b[0;34m,\u001b[0m \u001b[0mscorer\u001b[0m\u001b[0;34m)\u001b[0m\u001b[0;34m\u001b[0m\u001b[0;34m\u001b[0m\u001b[0m\n\u001b[0m\u001b[1;32m    545\u001b[0m         \u001b[0mscore_time\u001b[0m \u001b[0;34m=\u001b[0m \u001b[0mtime\u001b[0m\u001b[0;34m.\u001b[0m\u001b[0mtime\u001b[0m\u001b[0;34m(\u001b[0m\u001b[0;34m)\u001b[0m \u001b[0;34m-\u001b[0m \u001b[0mstart_time\u001b[0m \u001b[0;34m-\u001b[0m \u001b[0mfit_time\u001b[0m\u001b[0;34m\u001b[0m\u001b[0;34m\u001b[0m\u001b[0m\n\u001b[1;32m    546\u001b[0m         \u001b[0;32mif\u001b[0m \u001b[0mreturn_train_score\u001b[0m\u001b[0;34m:\u001b[0m\u001b[0;34m\u001b[0m\u001b[0;34m\u001b[0m\u001b[0m\n",
            "\u001b[0;32m/usr/local/lib/python3.6/dist-packages/sklearn/model_selection/_validation.py\u001b[0m in \u001b[0;36m_score\u001b[0;34m(estimator, X_test, y_test, scorer)\u001b[0m\n\u001b[1;32m    589\u001b[0m         \u001b[0mscores\u001b[0m \u001b[0;34m=\u001b[0m \u001b[0mscorer\u001b[0m\u001b[0;34m(\u001b[0m\u001b[0mestimator\u001b[0m\u001b[0;34m,\u001b[0m \u001b[0mX_test\u001b[0m\u001b[0;34m)\u001b[0m\u001b[0;34m\u001b[0m\u001b[0;34m\u001b[0m\u001b[0m\n\u001b[1;32m    590\u001b[0m     \u001b[0;32melse\u001b[0m\u001b[0;34m:\u001b[0m\u001b[0;34m\u001b[0m\u001b[0;34m\u001b[0m\u001b[0m\n\u001b[0;32m--> 591\u001b[0;31m         \u001b[0mscores\u001b[0m \u001b[0;34m=\u001b[0m \u001b[0mscorer\u001b[0m\u001b[0;34m(\u001b[0m\u001b[0mestimator\u001b[0m\u001b[0;34m,\u001b[0m \u001b[0mX_test\u001b[0m\u001b[0;34m,\u001b[0m \u001b[0my_test\u001b[0m\u001b[0;34m)\u001b[0m\u001b[0;34m\u001b[0m\u001b[0;34m\u001b[0m\u001b[0m\n\u001b[0m\u001b[1;32m    592\u001b[0m \u001b[0;34m\u001b[0m\u001b[0m\n\u001b[1;32m    593\u001b[0m     error_msg = (\"scoring must return a number, got %s (%s) \"\n",
            "\u001b[0;32m/usr/local/lib/python3.6/dist-packages/sklearn/metrics/_scorer.py\u001b[0m in \u001b[0;36m__call__\u001b[0;34m(self, estimator, *args, **kwargs)\u001b[0m\n\u001b[1;32m     87\u001b[0m                                       *args, **kwargs)\n\u001b[1;32m     88\u001b[0m             \u001b[0;32melse\u001b[0m\u001b[0;34m:\u001b[0m\u001b[0;34m\u001b[0m\u001b[0;34m\u001b[0m\u001b[0m\n\u001b[0;32m---> 89\u001b[0;31m                 \u001b[0mscore\u001b[0m \u001b[0;34m=\u001b[0m \u001b[0mscorer\u001b[0m\u001b[0;34m(\u001b[0m\u001b[0mestimator\u001b[0m\u001b[0;34m,\u001b[0m \u001b[0;34m*\u001b[0m\u001b[0margs\u001b[0m\u001b[0;34m,\u001b[0m \u001b[0;34m**\u001b[0m\u001b[0mkwargs\u001b[0m\u001b[0;34m)\u001b[0m\u001b[0;34m\u001b[0m\u001b[0;34m\u001b[0m\u001b[0m\n\u001b[0m\u001b[1;32m     90\u001b[0m             \u001b[0mscores\u001b[0m\u001b[0;34m[\u001b[0m\u001b[0mname\u001b[0m\u001b[0;34m]\u001b[0m \u001b[0;34m=\u001b[0m \u001b[0mscore\u001b[0m\u001b[0;34m\u001b[0m\u001b[0;34m\u001b[0m\u001b[0m\n\u001b[1;32m     91\u001b[0m         \u001b[0;32mreturn\u001b[0m \u001b[0mscores\u001b[0m\u001b[0;34m\u001b[0m\u001b[0;34m\u001b[0m\u001b[0m\n",
            "\u001b[0;32m/usr/local/lib/python3.6/dist-packages/sklearn/metrics/_scorer.py\u001b[0m in \u001b[0;36m_passthrough_scorer\u001b[0;34m(estimator, *args, **kwargs)\u001b[0m\n\u001b[1;32m    369\u001b[0m \u001b[0;32mdef\u001b[0m \u001b[0m_passthrough_scorer\u001b[0m\u001b[0;34m(\u001b[0m\u001b[0mestimator\u001b[0m\u001b[0;34m,\u001b[0m \u001b[0;34m*\u001b[0m\u001b[0margs\u001b[0m\u001b[0;34m,\u001b[0m \u001b[0;34m**\u001b[0m\u001b[0mkwargs\u001b[0m\u001b[0;34m)\u001b[0m\u001b[0;34m:\u001b[0m\u001b[0;34m\u001b[0m\u001b[0;34m\u001b[0m\u001b[0m\n\u001b[1;32m    370\u001b[0m     \u001b[0;34m\"\"\"Function that wraps estimator.score\"\"\"\u001b[0m\u001b[0;34m\u001b[0m\u001b[0;34m\u001b[0m\u001b[0m\n\u001b[0;32m--> 371\u001b[0;31m     \u001b[0;32mreturn\u001b[0m \u001b[0mestimator\u001b[0m\u001b[0;34m.\u001b[0m\u001b[0mscore\u001b[0m\u001b[0;34m(\u001b[0m\u001b[0;34m*\u001b[0m\u001b[0margs\u001b[0m\u001b[0;34m,\u001b[0m \u001b[0;34m**\u001b[0m\u001b[0mkwargs\u001b[0m\u001b[0;34m)\u001b[0m\u001b[0;34m\u001b[0m\u001b[0;34m\u001b[0m\u001b[0m\n\u001b[0m\u001b[1;32m    372\u001b[0m \u001b[0;34m\u001b[0m\u001b[0m\n\u001b[1;32m    373\u001b[0m \u001b[0;34m\u001b[0m\u001b[0m\n",
            "\u001b[0;32m/usr/local/lib/python3.6/dist-packages/sklearn/utils/metaestimators.py\u001b[0m in \u001b[0;36m<lambda>\u001b[0;34m(*args, **kwargs)\u001b[0m\n\u001b[1;32m    114\u001b[0m \u001b[0;34m\u001b[0m\u001b[0m\n\u001b[1;32m    115\u001b[0m         \u001b[0;31m# lambda, but not partial, allows help() to work with update_wrapper\u001b[0m\u001b[0;34m\u001b[0m\u001b[0;34m\u001b[0m\u001b[0;34m\u001b[0m\u001b[0m\n\u001b[0;32m--> 116\u001b[0;31m         \u001b[0mout\u001b[0m \u001b[0;34m=\u001b[0m \u001b[0;32mlambda\u001b[0m \u001b[0;34m*\u001b[0m\u001b[0margs\u001b[0m\u001b[0;34m,\u001b[0m \u001b[0;34m**\u001b[0m\u001b[0mkwargs\u001b[0m\u001b[0;34m:\u001b[0m \u001b[0mself\u001b[0m\u001b[0;34m.\u001b[0m\u001b[0mfn\u001b[0m\u001b[0;34m(\u001b[0m\u001b[0mobj\u001b[0m\u001b[0;34m,\u001b[0m \u001b[0;34m*\u001b[0m\u001b[0margs\u001b[0m\u001b[0;34m,\u001b[0m \u001b[0;34m**\u001b[0m\u001b[0mkwargs\u001b[0m\u001b[0;34m)\u001b[0m\u001b[0;34m\u001b[0m\u001b[0;34m\u001b[0m\u001b[0m\n\u001b[0m\u001b[1;32m    117\u001b[0m         \u001b[0;31m# update the docstring of the returned function\u001b[0m\u001b[0;34m\u001b[0m\u001b[0;34m\u001b[0m\u001b[0;34m\u001b[0m\u001b[0m\n\u001b[1;32m    118\u001b[0m         \u001b[0mupdate_wrapper\u001b[0m\u001b[0;34m(\u001b[0m\u001b[0mout\u001b[0m\u001b[0;34m,\u001b[0m \u001b[0mself\u001b[0m\u001b[0;34m.\u001b[0m\u001b[0mfn\u001b[0m\u001b[0;34m)\u001b[0m\u001b[0;34m\u001b[0m\u001b[0;34m\u001b[0m\u001b[0m\n",
            "\u001b[0;32m<ipython-input-10-a9cdd2d4cab3>\u001b[0m in \u001b[0;36mscore\u001b[0;34m(self, X, y, sample_weight)\u001b[0m\n\u001b[1;32m    126\u001b[0m     \u001b[0mscore_params\u001b[0m \u001b[0;34m=\u001b[0m \u001b[0;34m{\u001b[0m\u001b[0;34m}\u001b[0m\u001b[0;34m\u001b[0m\u001b[0;34m\u001b[0m\u001b[0m\n\u001b[1;32m    127\u001b[0m     \u001b[0;32mif\u001b[0m \u001b[0msample_weight\u001b[0m \u001b[0;32mis\u001b[0m \u001b[0;32mnot\u001b[0m \u001b[0;32mNone\u001b[0m\u001b[0;34m:\u001b[0m \u001b[0mscore_params\u001b[0m\u001b[0;34m[\u001b[0m\u001b[0;34m'sample_weight'\u001b[0m\u001b[0;34m]\u001b[0m \u001b[0;34m=\u001b[0m \u001b[0msample_weight\u001b[0m\u001b[0;34m\u001b[0m\u001b[0;34m\u001b[0m\u001b[0m\n\u001b[0;32m--> 128\u001b[0;31m     \u001b[0;32mreturn\u001b[0m \u001b[0mself\u001b[0m\u001b[0;34m.\u001b[0m\u001b[0mestimator\u001b[0m\u001b[0;34m.\u001b[0m\u001b[0mscore\u001b[0m\u001b[0;34m(\u001b[0m\u001b[0mXt\u001b[0m\u001b[0;34m,\u001b[0m \u001b[0my\u001b[0m\u001b[0;34m,\u001b[0m \u001b[0;34m**\u001b[0m\u001b[0mscore_params\u001b[0m\u001b[0;34m)\u001b[0m\u001b[0;34m\u001b[0m\u001b[0;34m\u001b[0m\u001b[0m\n\u001b[0m\u001b[1;32m    129\u001b[0m \u001b[0;34m\u001b[0m\u001b[0m\n\u001b[1;32m    130\u001b[0m   \u001b[0;34m@\u001b[0m\u001b[0mproperty\u001b[0m\u001b[0;34m\u001b[0m\u001b[0;34m\u001b[0m\u001b[0m\n",
            "\u001b[0;32m/usr/local/lib/python3.6/dist-packages/sklearn/base.py\u001b[0m in \u001b[0;36mscore\u001b[0;34m(self, X, y, sample_weight)\u001b[0m\n\u001b[1;32m    367\u001b[0m         \"\"\"\n\u001b[1;32m    368\u001b[0m         \u001b[0;32mfrom\u001b[0m \u001b[0;34m.\u001b[0m\u001b[0mmetrics\u001b[0m \u001b[0;32mimport\u001b[0m \u001b[0maccuracy_score\u001b[0m\u001b[0;34m\u001b[0m\u001b[0;34m\u001b[0m\u001b[0m\n\u001b[0;32m--> 369\u001b[0;31m         \u001b[0;32mreturn\u001b[0m \u001b[0maccuracy_score\u001b[0m\u001b[0;34m(\u001b[0m\u001b[0my\u001b[0m\u001b[0;34m,\u001b[0m \u001b[0mself\u001b[0m\u001b[0;34m.\u001b[0m\u001b[0mpredict\u001b[0m\u001b[0;34m(\u001b[0m\u001b[0mX\u001b[0m\u001b[0;34m)\u001b[0m\u001b[0;34m,\u001b[0m \u001b[0msample_weight\u001b[0m\u001b[0;34m=\u001b[0m\u001b[0msample_weight\u001b[0m\u001b[0;34m)\u001b[0m\u001b[0;34m\u001b[0m\u001b[0;34m\u001b[0m\u001b[0m\n\u001b[0m\u001b[1;32m    370\u001b[0m \u001b[0;34m\u001b[0m\u001b[0m\n\u001b[1;32m    371\u001b[0m \u001b[0;34m\u001b[0m\u001b[0m\n",
            "\u001b[0;32m/usr/local/lib/python3.6/dist-packages/sklearn/ensemble/_forest.py\u001b[0m in \u001b[0;36mpredict\u001b[0;34m(self, X)\u001b[0m\n\u001b[1;32m    610\u001b[0m             \u001b[0mThe\u001b[0m \u001b[0mpredicted\u001b[0m \u001b[0mclasses\u001b[0m\u001b[0;34m.\u001b[0m\u001b[0;34m\u001b[0m\u001b[0;34m\u001b[0m\u001b[0m\n\u001b[1;32m    611\u001b[0m         \"\"\"\n\u001b[0;32m--> 612\u001b[0;31m         \u001b[0mproba\u001b[0m \u001b[0;34m=\u001b[0m \u001b[0mself\u001b[0m\u001b[0;34m.\u001b[0m\u001b[0mpredict_proba\u001b[0m\u001b[0;34m(\u001b[0m\u001b[0mX\u001b[0m\u001b[0;34m)\u001b[0m\u001b[0;34m\u001b[0m\u001b[0;34m\u001b[0m\u001b[0m\n\u001b[0m\u001b[1;32m    613\u001b[0m \u001b[0;34m\u001b[0m\u001b[0m\n\u001b[1;32m    614\u001b[0m         \u001b[0;32mif\u001b[0m \u001b[0mself\u001b[0m\u001b[0;34m.\u001b[0m\u001b[0mn_outputs_\u001b[0m \u001b[0;34m==\u001b[0m \u001b[0;36m1\u001b[0m\u001b[0;34m:\u001b[0m\u001b[0;34m\u001b[0m\u001b[0;34m\u001b[0m\u001b[0m\n",
            "\u001b[0;32m/usr/local/lib/python3.6/dist-packages/sklearn/ensemble/_forest.py\u001b[0m in \u001b[0;36mpredict_proba\u001b[0;34m(self, X)\u001b[0m\n\u001b[1;32m    667\u001b[0m             delayed(_accumulate_prediction)(e.predict_proba, X, all_proba,\n\u001b[1;32m    668\u001b[0m                                             lock)\n\u001b[0;32m--> 669\u001b[0;31m             for e in self.estimators_)\n\u001b[0m\u001b[1;32m    670\u001b[0m \u001b[0;34m\u001b[0m\u001b[0m\n\u001b[1;32m    671\u001b[0m         \u001b[0;32mfor\u001b[0m \u001b[0mproba\u001b[0m \u001b[0;32min\u001b[0m \u001b[0mall_proba\u001b[0m\u001b[0;34m:\u001b[0m\u001b[0;34m\u001b[0m\u001b[0;34m\u001b[0m\u001b[0m\n",
            "\u001b[0;32m/usr/local/lib/python3.6/dist-packages/joblib/parallel.py\u001b[0m in \u001b[0;36m__call__\u001b[0;34m(self, iterable)\u001b[0m\n\u001b[1;32m   1040\u001b[0m \u001b[0;34m\u001b[0m\u001b[0m\n\u001b[1;32m   1041\u001b[0m             \u001b[0;32mwith\u001b[0m \u001b[0mself\u001b[0m\u001b[0;34m.\u001b[0m\u001b[0m_backend\u001b[0m\u001b[0;34m.\u001b[0m\u001b[0mretrieval_context\u001b[0m\u001b[0;34m(\u001b[0m\u001b[0;34m)\u001b[0m\u001b[0;34m:\u001b[0m\u001b[0;34m\u001b[0m\u001b[0;34m\u001b[0m\u001b[0m\n\u001b[0;32m-> 1042\u001b[0;31m                 \u001b[0mself\u001b[0m\u001b[0;34m.\u001b[0m\u001b[0mretrieve\u001b[0m\u001b[0;34m(\u001b[0m\u001b[0;34m)\u001b[0m\u001b[0;34m\u001b[0m\u001b[0;34m\u001b[0m\u001b[0m\n\u001b[0m\u001b[1;32m   1043\u001b[0m             \u001b[0;31m# Make sure that we get a last message telling us we are done\u001b[0m\u001b[0;34m\u001b[0m\u001b[0;34m\u001b[0m\u001b[0;34m\u001b[0m\u001b[0m\n\u001b[1;32m   1044\u001b[0m             \u001b[0melapsed_time\u001b[0m \u001b[0;34m=\u001b[0m \u001b[0mtime\u001b[0m\u001b[0;34m.\u001b[0m\u001b[0mtime\u001b[0m\u001b[0;34m(\u001b[0m\u001b[0;34m)\u001b[0m \u001b[0;34m-\u001b[0m \u001b[0mself\u001b[0m\u001b[0;34m.\u001b[0m\u001b[0m_start_time\u001b[0m\u001b[0;34m\u001b[0m\u001b[0;34m\u001b[0m\u001b[0m\n",
            "\u001b[0;32m/usr/local/lib/python3.6/dist-packages/joblib/parallel.py\u001b[0m in \u001b[0;36mretrieve\u001b[0;34m(self)\u001b[0m\n\u001b[1;32m    919\u001b[0m             \u001b[0;32mtry\u001b[0m\u001b[0;34m:\u001b[0m\u001b[0;34m\u001b[0m\u001b[0;34m\u001b[0m\u001b[0m\n\u001b[1;32m    920\u001b[0m                 \u001b[0;32mif\u001b[0m \u001b[0mgetattr\u001b[0m\u001b[0;34m(\u001b[0m\u001b[0mself\u001b[0m\u001b[0;34m.\u001b[0m\u001b[0m_backend\u001b[0m\u001b[0;34m,\u001b[0m \u001b[0;34m'supports_timeout'\u001b[0m\u001b[0;34m,\u001b[0m \u001b[0;32mFalse\u001b[0m\u001b[0;34m)\u001b[0m\u001b[0;34m:\u001b[0m\u001b[0;34m\u001b[0m\u001b[0;34m\u001b[0m\u001b[0m\n\u001b[0;32m--> 921\u001b[0;31m                     \u001b[0mself\u001b[0m\u001b[0;34m.\u001b[0m\u001b[0m_output\u001b[0m\u001b[0;34m.\u001b[0m\u001b[0mextend\u001b[0m\u001b[0;34m(\u001b[0m\u001b[0mjob\u001b[0m\u001b[0;34m.\u001b[0m\u001b[0mget\u001b[0m\u001b[0;34m(\u001b[0m\u001b[0mtimeout\u001b[0m\u001b[0;34m=\u001b[0m\u001b[0mself\u001b[0m\u001b[0;34m.\u001b[0m\u001b[0mtimeout\u001b[0m\u001b[0;34m)\u001b[0m\u001b[0;34m)\u001b[0m\u001b[0;34m\u001b[0m\u001b[0;34m\u001b[0m\u001b[0m\n\u001b[0m\u001b[1;32m    922\u001b[0m                 \u001b[0;32melse\u001b[0m\u001b[0;34m:\u001b[0m\u001b[0;34m\u001b[0m\u001b[0;34m\u001b[0m\u001b[0m\n\u001b[1;32m    923\u001b[0m                     \u001b[0mself\u001b[0m\u001b[0;34m.\u001b[0m\u001b[0m_output\u001b[0m\u001b[0;34m.\u001b[0m\u001b[0mextend\u001b[0m\u001b[0;34m(\u001b[0m\u001b[0mjob\u001b[0m\u001b[0;34m.\u001b[0m\u001b[0mget\u001b[0m\u001b[0;34m(\u001b[0m\u001b[0;34m)\u001b[0m\u001b[0;34m)\u001b[0m\u001b[0;34m\u001b[0m\u001b[0;34m\u001b[0m\u001b[0m\n",
            "\u001b[0;32m/usr/lib/python3.6/multiprocessing/pool.py\u001b[0m in \u001b[0;36mget\u001b[0;34m(self, timeout)\u001b[0m\n\u001b[1;32m    636\u001b[0m \u001b[0;34m\u001b[0m\u001b[0m\n\u001b[1;32m    637\u001b[0m     \u001b[0;32mdef\u001b[0m \u001b[0mget\u001b[0m\u001b[0;34m(\u001b[0m\u001b[0mself\u001b[0m\u001b[0;34m,\u001b[0m \u001b[0mtimeout\u001b[0m\u001b[0;34m=\u001b[0m\u001b[0;32mNone\u001b[0m\u001b[0;34m)\u001b[0m\u001b[0;34m:\u001b[0m\u001b[0;34m\u001b[0m\u001b[0;34m\u001b[0m\u001b[0m\n\u001b[0;32m--> 638\u001b[0;31m         \u001b[0mself\u001b[0m\u001b[0;34m.\u001b[0m\u001b[0mwait\u001b[0m\u001b[0;34m(\u001b[0m\u001b[0mtimeout\u001b[0m\u001b[0;34m)\u001b[0m\u001b[0;34m\u001b[0m\u001b[0;34m\u001b[0m\u001b[0m\n\u001b[0m\u001b[1;32m    639\u001b[0m         \u001b[0;32mif\u001b[0m \u001b[0;32mnot\u001b[0m \u001b[0mself\u001b[0m\u001b[0;34m.\u001b[0m\u001b[0mready\u001b[0m\u001b[0;34m(\u001b[0m\u001b[0;34m)\u001b[0m\u001b[0;34m:\u001b[0m\u001b[0;34m\u001b[0m\u001b[0;34m\u001b[0m\u001b[0m\n\u001b[1;32m    640\u001b[0m             \u001b[0;32mraise\u001b[0m \u001b[0mTimeoutError\u001b[0m\u001b[0;34m\u001b[0m\u001b[0;34m\u001b[0m\u001b[0m\n",
            "\u001b[0;32m/usr/lib/python3.6/multiprocessing/pool.py\u001b[0m in \u001b[0;36mwait\u001b[0;34m(self, timeout)\u001b[0m\n\u001b[1;32m    633\u001b[0m \u001b[0;34m\u001b[0m\u001b[0m\n\u001b[1;32m    634\u001b[0m     \u001b[0;32mdef\u001b[0m \u001b[0mwait\u001b[0m\u001b[0;34m(\u001b[0m\u001b[0mself\u001b[0m\u001b[0;34m,\u001b[0m \u001b[0mtimeout\u001b[0m\u001b[0;34m=\u001b[0m\u001b[0;32mNone\u001b[0m\u001b[0;34m)\u001b[0m\u001b[0;34m:\u001b[0m\u001b[0;34m\u001b[0m\u001b[0;34m\u001b[0m\u001b[0m\n\u001b[0;32m--> 635\u001b[0;31m         \u001b[0mself\u001b[0m\u001b[0;34m.\u001b[0m\u001b[0m_event\u001b[0m\u001b[0;34m.\u001b[0m\u001b[0mwait\u001b[0m\u001b[0;34m(\u001b[0m\u001b[0mtimeout\u001b[0m\u001b[0;34m)\u001b[0m\u001b[0;34m\u001b[0m\u001b[0;34m\u001b[0m\u001b[0m\n\u001b[0m\u001b[1;32m    636\u001b[0m \u001b[0;34m\u001b[0m\u001b[0m\n\u001b[1;32m    637\u001b[0m     \u001b[0;32mdef\u001b[0m \u001b[0mget\u001b[0m\u001b[0;34m(\u001b[0m\u001b[0mself\u001b[0m\u001b[0;34m,\u001b[0m \u001b[0mtimeout\u001b[0m\u001b[0;34m=\u001b[0m\u001b[0;32mNone\u001b[0m\u001b[0;34m)\u001b[0m\u001b[0;34m:\u001b[0m\u001b[0;34m\u001b[0m\u001b[0;34m\u001b[0m\u001b[0m\n",
            "\u001b[0;32m/usr/lib/python3.6/threading.py\u001b[0m in \u001b[0;36mwait\u001b[0;34m(self, timeout)\u001b[0m\n\u001b[1;32m    549\u001b[0m             \u001b[0msignaled\u001b[0m \u001b[0;34m=\u001b[0m \u001b[0mself\u001b[0m\u001b[0;34m.\u001b[0m\u001b[0m_flag\u001b[0m\u001b[0;34m\u001b[0m\u001b[0;34m\u001b[0m\u001b[0m\n\u001b[1;32m    550\u001b[0m             \u001b[0;32mif\u001b[0m \u001b[0;32mnot\u001b[0m \u001b[0msignaled\u001b[0m\u001b[0;34m:\u001b[0m\u001b[0;34m\u001b[0m\u001b[0;34m\u001b[0m\u001b[0m\n\u001b[0;32m--> 551\u001b[0;31m                 \u001b[0msignaled\u001b[0m \u001b[0;34m=\u001b[0m \u001b[0mself\u001b[0m\u001b[0;34m.\u001b[0m\u001b[0m_cond\u001b[0m\u001b[0;34m.\u001b[0m\u001b[0mwait\u001b[0m\u001b[0;34m(\u001b[0m\u001b[0mtimeout\u001b[0m\u001b[0;34m)\u001b[0m\u001b[0;34m\u001b[0m\u001b[0;34m\u001b[0m\u001b[0m\n\u001b[0m\u001b[1;32m    552\u001b[0m             \u001b[0;32mreturn\u001b[0m \u001b[0msignaled\u001b[0m\u001b[0;34m\u001b[0m\u001b[0;34m\u001b[0m\u001b[0m\n\u001b[1;32m    553\u001b[0m \u001b[0;34m\u001b[0m\u001b[0m\n",
            "\u001b[0;32m/usr/lib/python3.6/threading.py\u001b[0m in \u001b[0;36mwait\u001b[0;34m(self, timeout)\u001b[0m\n\u001b[1;32m    293\u001b[0m         \u001b[0;32mtry\u001b[0m\u001b[0;34m:\u001b[0m    \u001b[0;31m# restore state no matter what (e.g., KeyboardInterrupt)\u001b[0m\u001b[0;34m\u001b[0m\u001b[0;34m\u001b[0m\u001b[0m\n\u001b[1;32m    294\u001b[0m             \u001b[0;32mif\u001b[0m \u001b[0mtimeout\u001b[0m \u001b[0;32mis\u001b[0m \u001b[0;32mNone\u001b[0m\u001b[0;34m:\u001b[0m\u001b[0;34m\u001b[0m\u001b[0;34m\u001b[0m\u001b[0m\n\u001b[0;32m--> 295\u001b[0;31m                 \u001b[0mwaiter\u001b[0m\u001b[0;34m.\u001b[0m\u001b[0macquire\u001b[0m\u001b[0;34m(\u001b[0m\u001b[0;34m)\u001b[0m\u001b[0;34m\u001b[0m\u001b[0;34m\u001b[0m\u001b[0m\n\u001b[0m\u001b[1;32m    296\u001b[0m                 \u001b[0mgotit\u001b[0m \u001b[0;34m=\u001b[0m \u001b[0;32mTrue\u001b[0m\u001b[0;34m\u001b[0m\u001b[0;34m\u001b[0m\u001b[0m\n\u001b[1;32m    297\u001b[0m             \u001b[0;32melse\u001b[0m\u001b[0;34m:\u001b[0m\u001b[0;34m\u001b[0m\u001b[0;34m\u001b[0m\u001b[0m\n",
            "\u001b[0;31mKeyboardInterrupt\u001b[0m: "
          ]
        }
      ]
    },
    {
      "cell_type": "markdown",
      "metadata": {
        "id": "fKov9W89xnBr",
        "colab_type": "text"
      },
      "source": [
        "Running a grid search to refine the random forest model. I am changing the min_samples_leaf and max_size hyperparameters. This takes a long time."
      ]
    },
    {
      "cell_type": "markdown",
      "metadata": {
        "id": "Pn1-0ZfbbDbD",
        "colab_type": "text"
      },
      "source": [
        "With the hyperparameters optimized we can run our final model and see how effective it is."
      ]
    },
    {
      "cell_type": "code",
      "metadata": {
        "id": "skeXwvMsbCB0",
        "colab_type": "code",
        "colab": {
          "base_uri": "https://localhost:8080/",
          "height": 34
        },
        "outputId": "8104a784-5d79-4e2f-f19d-a9d94d2f7d46"
      },
      "source": [
        "dt_clf = DecisionTreeClassifier(max_depth = 10, min_samples_leaf = 20)\n",
        "cross_val_score(dt_clf, X, y, scoring='f1_micro', cv=3)"
      ],
      "execution_count": 52,
      "outputs": [
        {
          "output_type": "execute_result",
          "data": {
            "text/plain": [
              "array([0.43850045, 0.43579794, 0.42831405])"
            ]
          },
          "metadata": {
            "tags": []
          },
          "execution_count": 52
        }
      ]
    },
    {
      "cell_type": "code",
      "metadata": {
        "id": "6pgXtB1igYKL",
        "colab_type": "code",
        "colab": {}
      },
      "source": [
        "dt_pipeline = SupervisedPipeline(\n",
        "    RemoveBadData(300, ['green', 'purple', 'blue']), \n",
        "    \"colorname\",        # column with label\n",
        "    preprocessor,    # cleans data and extracts features\n",
        "    dt_clf\n",
        "    \n",
        ")\n",
        "\n",
        "dt_pipeline.fit(colors_sample)\n",
        "pass"
      ],
      "execution_count": 53,
      "outputs": []
    },
    {
      "cell_type": "code",
      "metadata": {
        "id": "gFvROuaJbaDE",
        "colab_type": "code",
        "colab": {
          "base_uri": "https://localhost:8080/",
          "height": 248
        },
        "outputId": "bbcddae8-a2bf-4215-af4d-b9813c50cbde"
      },
      "source": [
        "show_errors(dt_pipeline, colors_sample)"
      ],
      "execution_count": 54,
      "outputs": [
        {
          "output_type": "display_data",
          "data": {
            "image/png": "[encoded data removed]",
            "text/plain": [
              "<Figure size 432x288 with 1 Axes>"
            ]
          },
          "metadata": {
            "tags": [],
            "needs_background": "light"
          }
        }
      ]
    },
    {
      "cell_type": "code",
      "metadata": {
        "id": "3zcY1puxbdvc",
        "colab_type": "code",
        "colab": {
          "base_uri": "https://localhost:8080/",
          "height": 258
        },
        "outputId": "a493d436-3d94-4915-e086-fe8572e497c9"
      },
      "source": [
        "show_examples(dt_pipeline)"
      ],
      "execution_count": 55,
      "outputs": [
        {
          "output_type": "display_data",
          "data": {
            "image/png": "[encoded data removed]",
            "text/plain": [
              "<Figure size 432x288 with 15 Axes>"
            ]
          },
          "metadata": {
            "tags": [],
            "needs_background": "light"
          }
        }
      ]
    },
    {
      "cell_type": "markdown",
      "metadata": {
        "id": "mQnHDmDdghQH",
        "colab_type": "text"
      },
      "source": [
        "This model has become much better at classifying the colors, going from an f1 score of 0.3 to almost 0.5. Looking at the examples, the classifier is doing much better on all colors except ocasionally white. The system still struggles with colors with similar RGB values, (the middle of the graph), but it is much better than before."
      ]
    },
    {
      "cell_type": "code",
      "metadata": {
        "id": "ffU3vgVabhYq",
        "colab_type": "code",
        "colab": {}
      },
      "source": [
        ""
      ],
      "execution_count": null,
      "outputs": []
    },
    {
      "cell_type": "markdown",
      "metadata": {
        "id": "EAcNpLmccj7F",
        "colab_type": "text"
      },
      "source": [
        "Now that we are at the very end of the process we can finally asses the system on the testing set."
      ]
    },
    {
      "cell_type": "code",
      "metadata": {
        "id": "8Nh7dvvMjyb3",
        "colab_type": "code",
        "colab": {}
      },
      "source": [
        "#Cutting the test set in half because it is a little too big and can crash my runtime. \n",
        "#Ideally I would rather use the 20% but it is not possible with my current setup. I gradually would increase it until the RAM got close to using too much\n",
        "#I know this is not ideal either but it seemed to be a different size that crashed the program each time, seems like a google colab eccentricity and not my own error\n",
        "test_set = test_set.sample(frac=0.5)"
      ],
      "execution_count": 56,
      "outputs": []
    },
    {
      "cell_type": "code",
      "metadata": {
        "id": "9xDij4M1ducO",
        "colab_type": "code",
        "colab": {}
      },
      "source": [
        "# Get the feature values and target values as separate variables for the test set\n",
        "from sklearn.metrics import f1_score\n",
        "\n",
        "X_test = test_set[['r', 'g', 'b']]\n",
        "y_test = test_set.colorname\n",
        "test_pred = dt_clf.fit(X_test, y_test).predict((X_test))\n",
        "f1_score(y_test, test_pred, average='micro')"
      ],
      "execution_count": null,
      "outputs": []
    },
    {
      "cell_type": "markdown",
      "metadata": {
        "id": "K4KcwL3UmqaT",
        "colab_type": "text"
      },
      "source": [
        "The f1 score is a bit lower than on the training set, this is because we are overfitting a little bit. Overall this is much better than before. Depending on what the business declared good enough this could be refined a bit more."
      ]
    },
    {
      "cell_type": "markdown",
      "metadata": {
        "id": "berAQHxGkVup",
        "colab_type": "text"
      },
      "source": [
        "Present Your Solution\n",
        "-------------------------\n",
        "\n",
        "Document what you have done and mention what your final solution is and how well it works."
      ]
    },
    {
      "cell_type": "markdown",
      "metadata": {
        "id": "bms4GyFilFbJ",
        "colab_type": "text"
      },
      "source": [
        "AI oriented description of what I did\n",
        "\n",
        "The goal of this assignment was to use data from a RGB-based color survey to predict the color name when given an RGB triplet. After exploring the data I realized there were many transformations to put on the data. Because sometimes people are overly specific, wrote too unique of names, and sometimes had common spelling mistakes, I had to drop colornames that appeared less than 200 times to eliminate these. Also, this may sound counter-intuitive, but I had to drop colornames that were too comon and appeared too many times, because when something appear too often it can disrupt the machine learning system. It may seem almost wrong, but In this case, having too much data could be hurtful. I did both of these in the RemoveBadData class in the pipeline. I also added values for the closeness of all 3 RGB values and the average value in their own classes in the pipeline. From then I used a crossvalscore focusing on f1 score to compare each model. I continued on with the decision tree model. Using gridsearch I determined the optimal attributes for two key hyperparameters to increase the f1 score by a third. \n",
        "\n",
        "\n",
        "If I were to have a setup with more RAM, or at the very least more processing power, it would be possible to train on the whole sample data and have possibly a more accurate solution or try a more complex classifier like an ensemble or voting classifier."
      ]
    },
    {
      "cell_type": "markdown",
      "metadata": {
        "id": "tuiXcnJRngtV",
        "colab_type": "text"
      },
      "source": [
        "Client oriented description of what I did\n",
        "\n",
        "First I explored the data and determined what given data would be the most important. This is of course the RGB values which are given. From there I created a few other attributes that would help me later like the average value. My solution that is very accurate at determining primary, secondary and tertiary colors, but not as good at determining colors in the middle of the graph or with RGB values that match like gray white and black. (see graph below. Each axis is one value of the RGB triplet, green means it was correctly predicted, red is incorrect) .\n",
        "\n"
      ]
    },
    {
      "cell_type": "code",
      "metadata": {
        "id": "jLMZOPpdpSMj",
        "colab_type": "code",
        "colab": {}
      },
      "source": [
        "show_errors(dt_pipeline, colors_sample)"
      ],
      "execution_count": null,
      "outputs": []
    },
    {
      "cell_type": "markdown",
      "metadata": {
        "id": "sVNGu875pSg4",
        "colab_type": "text"
      },
      "source": [
        "You have to take the 'on paper' performance with a grain of salt however, because the system is a little better than it looks. This is because when scoring the system it only takes into account one correct classification when there are many specific ones to be classified as. (Ex red vs bright red, dark red or blue vs teal) If I were to have better resourses with more processing power this solution could possibly be improved by using the full dataset instead of a small sample."
      ]
    },
    {
      "cell_type": "code",
      "metadata": {
        "id": "vh71Gmg_pgys",
        "colab_type": "code",
        "colab": {}
      },
      "source": [
        ""
      ],
      "execution_count": null,
      "outputs": []
    }
  ]
}